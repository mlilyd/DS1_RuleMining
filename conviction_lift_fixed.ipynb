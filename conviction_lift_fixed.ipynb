{
 "metadata": {
  "language_info": {
   "codemirror_mode": {
    "name": "ipython",
    "version": 3
   },
   "file_extension": ".py",
   "mimetype": "text/x-python",
   "name": "python",
   "nbconvert_exporter": "python",
   "pygments_lexer": "ipython3",
   "version": "3.8.6"
  },
  "orig_nbformat": 2,
  "kernelspec": {
   "name": "python3",
   "display_name": "Python 3.8.6 64-bit"
  },
  "metadata": {
   "interpreter": {
    "hash": "1baa965d5efe3ac65b79dfc60c0d706280b1da80fedb7760faf2759126c4f253"
   }
  },
  "interpreter": {
   "hash": "2db524e06e9f5f4ffedc911c917cb75e12dbc923643829bf417064a77eb14d37"
  }
 },
 "nbformat": 4,
 "nbformat_minor": 2,
 "cells": [
  {
   "source": [
    "# Comparison: Lift and Conviction\n",
    "by Lily Djami\n",
    "\n",
    "In this evaluation module, results from Apriori and ECLAT are compared with regards to lift and conviction. "
   ],
   "cell_type": "markdown",
   "metadata": {}
  },
  {
   "cell_type": "code",
   "execution_count": 1,
   "metadata": {},
   "outputs": [],
   "source": [
    "import matplotlib.pyplot as plt\n",
    "import plotly.express as px\n",
    "import pandas as pd\n",
    "import numpy as np\n",
    "pd.set_option('display.max_rows', None)\n",
    "\n",
    "from rules import save_results, load_results, rules_from_support\n",
    "from mlxtend.frequent_patterns import association_rules\n"
   ]
  },
  {
   "cell_type": "code",
   "execution_count": 6,
   "metadata": {},
   "outputs": [],
   "source": [
    "#read apriori support values\n",
    "retail_apriori = load_results(\"Apriori\\\\apr_retail_0.04.support\")\n",
    "entree_apriori = load_results(\"Apriori\\\\apr_entree_0.1.support\")\n",
    "\n",
    "#read eclat support values\n",
    "retail_eclat = load_results(\"ECLAT\\\\retail_0.04.support\")\n",
    "retail_eclat.update(retail_eclat_3)\n",
    "entree_eclat = load_results(\"ECLAT\\\\entree_0.1.support\")"
   ]
  },
  {
   "cell_type": "code",
   "execution_count": 8,
   "metadata": {},
   "outputs": [],
   "source": [
    "retail_eclat_rules = rules_from_support(retail_eclat)\n",
    "retail_apriori_rules = association_rules(retail_apriori, min_threshold = 0)\n",
    "\n",
    "\n",
    "entree_eclat_rules = rules_from_support(entree_eclat[1])\n",
    "entree_apriori_rules = association_rules(entree_apriori, min_threshold = 0)"
   ]
  },
  {
   "cell_type": "code",
   "execution_count": 9,
   "metadata": {},
   "outputs": [],
   "source": [
    "def frozenset_to_str(t):\n",
    "    t = list(t)\n",
    "    t.sort()\n",
    "    return \"(\" + \", \".join([str(i) for i in t]) + \")\"\n",
    "\n",
    "def rule_str(rule_df):\n",
    "    rule_list = [frozenset_to_str(rule_df['antecedents'][i]) + \" -> \" + frozenset_to_str(rule_df['consequents'][i])\n",
    "                for i in range(rule_df.shape[0])]\n",
    "\n",
    "    rule_df['rule'] = rule_list"
   ]
  },
  {
   "cell_type": "code",
   "execution_count": 10,
   "metadata": {},
   "outputs": [],
   "source": [
    "rule_str(entree_eclat_rules)\n",
    "rule_str(entree_apriori_rules)\n",
    "entree_eclat_rules = entree_eclat_rules.sort_values('rule')\n",
    "entree_apriori_rules = entree_apriori_rules.sort_values('rule')"
   ]
  },
  {
   "cell_type": "code",
   "execution_count": 11,
   "metadata": {},
   "outputs": [
    {
     "output_type": "stream",
     "name": "stdout",
     "text": [
      "(150, 19)\n"
     ]
    }
   ],
   "source": [
    "#join results on rule for better comparison\n",
    "entree_joined = pd.merge(entree_eclat_rules, entree_apriori_rules, on=\"rule\", suffixes=(\"_eclat\", \"_apriori\"))\n",
    "entree_joined = entree_joined.sort_values('rule')\n",
    "print(entree_joined.shape)"
   ]
  },
  {
   "cell_type": "code",
   "execution_count": 12,
   "metadata": {},
   "outputs": [],
   "source": [
    "rule_str(retail_eclat_rules)\n",
    "rule_str(retail_apriori_rules)\n",
    "retail_eclat_rules = retail_eclat_rules.sort_values('rule')\n",
    "retail_apriori_rules = retail_apriori_rules.sort_values('rule')"
   ]
  },
  {
   "cell_type": "code",
   "execution_count": 13,
   "metadata": {},
   "outputs": [
    {
     "output_type": "stream",
     "name": "stdout",
     "text": [
      "(52, 19)\n"
     ]
    }
   ],
   "source": [
    "retail_joined = pd.merge(retail_eclat_rules, retail_apriori_rules, on=\"rule\", suffixes=(\"_eclat\", \"_apriori\"))\n",
    "retail_joined = retail_joined.sort_values('rule')\n",
    "print(retail_joined.shape)"
   ]
  },
  {
   "source": [
    "## Lift\n",
    "\n",
    "\n"
   ],
   "cell_type": "markdown",
   "metadata": {}
  },
  {
   "cell_type": "code",
   "execution_count": 14,
   "metadata": {},
   "outputs": [
    {
     "output_type": "display_data",
     "data": {
      "application/vnd.plotly.v1+json": {
       "config": {
        "plotlyServerURL": "https://plot.ly"
       },
       "data": [
        {
         "hovertemplate": "algorithm=lift_apriori<br>Rule Index=%{x}<br>Lift=%{y}<extra></extra>",
         "legendgroup": "lift_apriori",
         "marker": {
          "color": "#636efa",
          "symbol": "circle"
         },
         "mode": "markers",
         "name": "lift_apriori",
         "orientation": "v",
         "showlegend": true,
         "type": "scatter",
         "x": [
          0,
          1,
          2,
          3,
          4,
          5,
          6,
          7,
          8,
          9,
          10,
          11,
          12,
          13,
          14,
          15,
          16,
          17,
          18,
          19,
          20,
          21,
          22,
          23,
          24,
          25,
          26,
          27,
          28,
          29,
          30,
          31,
          32,
          33,
          34,
          35,
          36,
          37,
          38,
          39,
          40,
          41,
          42,
          43,
          44,
          45,
          46,
          47,
          48,
          49,
          50,
          51
         ],
         "xaxis": "x",
         "y": [
          2.9324552516041877,
          6.071256038647342,
          6.071256038647342,
          3.768365817091454,
          3.8713900654601465,
          5.928066037735849,
          4.242887091943696,
          2.754454926624738,
          2.730503144654088,
          2.0016846361185983,
          3.370729813664596,
          4.6383547008547,
          3.8713900654601465,
          4.145124716553288,
          1.831997084548105,
          5.928066037735849,
          4.242887091943696,
          4.145124716553288,
          2.2164902998236333,
          2.297089947089947,
          2.202097505668934,
          3.523944805194805,
          3.5469771241830057,
          6.648168103448277,
          1.9474431818181817,
          2.9324552516041877,
          2.7544549266247382,
          4.6383547008547,
          2.216490299823633,
          3.5469771241830057,
          3.400297619047619,
          2.2981321839080455,
          2.730503144654088,
          2.297089947089947,
          2.0016846361185987,
          3.3707298136645956,
          1.831997084548105,
          2.2020975056689345,
          3.523944805194805,
          1.9474431818181817,
          3.4002976190476186,
          2.7781155015197565,
          2.266865079365079,
          2.0401785714285716,
          15.379807692307692,
          15.379807692307693,
          2.778115501519757,
          2.266865079365079,
          3.7683658170914542,
          6.648168103448277,
          2.298132183908046,
          2.0401785714285716
         ],
         "yaxis": "y"
        },
        {
         "hovertemplate": "algorithm=lift_eclat<br>Rule Index=%{x}<br>Lift=%{y}<extra></extra>",
         "legendgroup": "lift_eclat",
         "marker": {
          "color": "#EF553B",
          "symbol": "circle"
         },
         "mode": "markers",
         "name": "lift_eclat",
         "orientation": "v",
         "showlegend": true,
         "type": "scatter",
         "x": [
          0,
          1,
          2,
          3,
          4,
          5,
          6,
          7,
          8,
          9,
          10,
          11,
          12,
          13,
          14,
          15,
          16,
          17,
          18,
          19,
          20,
          21,
          22,
          23,
          24,
          25,
          26,
          27,
          28,
          29,
          30,
          31,
          32,
          33,
          34,
          35,
          36,
          37,
          38,
          39,
          40,
          41,
          42,
          43,
          44,
          45,
          46,
          47,
          48,
          49,
          50,
          51
         ],
         "xaxis": "x",
         "y": [
          2.9324552516041877,
          6.071256038647342,
          6.071256038647342,
          3.768365817091454,
          3.8713900654601465,
          5.928066037735849,
          4.242887091943696,
          2.754454926624738,
          2.730503144654088,
          2.0016846361185983,
          3.370729813664596,
          4.6383547008547,
          3.8713900654601465,
          4.145124716553288,
          1.831997084548105,
          5.928066037735849,
          4.242887091943696,
          4.145124716553288,
          2.2164902998236333,
          2.297089947089947,
          2.202097505668934,
          3.523944805194805,
          3.5469771241830057,
          6.648168103448277,
          1.9474431818181817,
          2.9324552516041877,
          2.7544549266247382,
          4.6383547008547,
          2.216490299823633,
          3.5469771241830057,
          3.400297619047619,
          2.2981321839080455,
          2.730503144654088,
          2.297089947089947,
          2.0016846361185987,
          3.3707298136645956,
          1.831997084548105,
          2.2020975056689345,
          3.523944805194805,
          1.9474431818181817,
          3.4002976190476186,
          2.7781155015197565,
          2.266865079365079,
          2.0401785714285716,
          15.379807692307692,
          15.379807692307693,
          2.778115501519757,
          2.266865079365079,
          3.7683658170914542,
          6.648168103448277,
          2.298132183908046,
          2.0401785714285716
         ],
         "yaxis": "y"
        }
       ],
       "layout": {
        "legend": {
         "title": {
          "text": "algorithm"
         },
         "tracegroupgap": 0
        },
        "margin": {
         "t": 60
        },
        "template": {
         "data": {
          "bar": [
           {
            "error_x": {
             "color": "#2a3f5f"
            },
            "error_y": {
             "color": "#2a3f5f"
            },
            "marker": {
             "line": {
              "color": "#E5ECF6",
              "width": 0.5
             }
            },
            "type": "bar"
           }
          ],
          "barpolar": [
           {
            "marker": {
             "line": {
              "color": "#E5ECF6",
              "width": 0.5
             }
            },
            "type": "barpolar"
           }
          ],
          "carpet": [
           {
            "aaxis": {
             "endlinecolor": "#2a3f5f",
             "gridcolor": "white",
             "linecolor": "white",
             "minorgridcolor": "white",
             "startlinecolor": "#2a3f5f"
            },
            "baxis": {
             "endlinecolor": "#2a3f5f",
             "gridcolor": "white",
             "linecolor": "white",
             "minorgridcolor": "white",
             "startlinecolor": "#2a3f5f"
            },
            "type": "carpet"
           }
          ],
          "choropleth": [
           {
            "colorbar": {
             "outlinewidth": 0,
             "ticks": ""
            },
            "type": "choropleth"
           }
          ],
          "contour": [
           {
            "colorbar": {
             "outlinewidth": 0,
             "ticks": ""
            },
            "colorscale": [
             [
              0,
              "#0d0887"
             ],
             [
              0.1111111111111111,
              "#46039f"
             ],
             [
              0.2222222222222222,
              "#7201a8"
             ],
             [
              0.3333333333333333,
              "#9c179e"
             ],
             [
              0.4444444444444444,
              "#bd3786"
             ],
             [
              0.5555555555555556,
              "#d8576b"
             ],
             [
              0.6666666666666666,
              "#ed7953"
             ],
             [
              0.7777777777777778,
              "#fb9f3a"
             ],
             [
              0.8888888888888888,
              "#fdca26"
             ],
             [
              1,
              "#f0f921"
             ]
            ],
            "type": "contour"
           }
          ],
          "contourcarpet": [
           {
            "colorbar": {
             "outlinewidth": 0,
             "ticks": ""
            },
            "type": "contourcarpet"
           }
          ],
          "heatmap": [
           {
            "colorbar": {
             "outlinewidth": 0,
             "ticks": ""
            },
            "colorscale": [
             [
              0,
              "#0d0887"
             ],
             [
              0.1111111111111111,
              "#46039f"
             ],
             [
              0.2222222222222222,
              "#7201a8"
             ],
             [
              0.3333333333333333,
              "#9c179e"
             ],
             [
              0.4444444444444444,
              "#bd3786"
             ],
             [
              0.5555555555555556,
              "#d8576b"
             ],
             [
              0.6666666666666666,
              "#ed7953"
             ],
             [
              0.7777777777777778,
              "#fb9f3a"
             ],
             [
              0.8888888888888888,
              "#fdca26"
             ],
             [
              1,
              "#f0f921"
             ]
            ],
            "type": "heatmap"
           }
          ],
          "heatmapgl": [
           {
            "colorbar": {
             "outlinewidth": 0,
             "ticks": ""
            },
            "colorscale": [
             [
              0,
              "#0d0887"
             ],
             [
              0.1111111111111111,
              "#46039f"
             ],
             [
              0.2222222222222222,
              "#7201a8"
             ],
             [
              0.3333333333333333,
              "#9c179e"
             ],
             [
              0.4444444444444444,
              "#bd3786"
             ],
             [
              0.5555555555555556,
              "#d8576b"
             ],
             [
              0.6666666666666666,
              "#ed7953"
             ],
             [
              0.7777777777777778,
              "#fb9f3a"
             ],
             [
              0.8888888888888888,
              "#fdca26"
             ],
             [
              1,
              "#f0f921"
             ]
            ],
            "type": "heatmapgl"
           }
          ],
          "histogram": [
           {
            "marker": {
             "colorbar": {
              "outlinewidth": 0,
              "ticks": ""
             }
            },
            "type": "histogram"
           }
          ],
          "histogram2d": [
           {
            "colorbar": {
             "outlinewidth": 0,
             "ticks": ""
            },
            "colorscale": [
             [
              0,
              "#0d0887"
             ],
             [
              0.1111111111111111,
              "#46039f"
             ],
             [
              0.2222222222222222,
              "#7201a8"
             ],
             [
              0.3333333333333333,
              "#9c179e"
             ],
             [
              0.4444444444444444,
              "#bd3786"
             ],
             [
              0.5555555555555556,
              "#d8576b"
             ],
             [
              0.6666666666666666,
              "#ed7953"
             ],
             [
              0.7777777777777778,
              "#fb9f3a"
             ],
             [
              0.8888888888888888,
              "#fdca26"
             ],
             [
              1,
              "#f0f921"
             ]
            ],
            "type": "histogram2d"
           }
          ],
          "histogram2dcontour": [
           {
            "colorbar": {
             "outlinewidth": 0,
             "ticks": ""
            },
            "colorscale": [
             [
              0,
              "#0d0887"
             ],
             [
              0.1111111111111111,
              "#46039f"
             ],
             [
              0.2222222222222222,
              "#7201a8"
             ],
             [
              0.3333333333333333,
              "#9c179e"
             ],
             [
              0.4444444444444444,
              "#bd3786"
             ],
             [
              0.5555555555555556,
              "#d8576b"
             ],
             [
              0.6666666666666666,
              "#ed7953"
             ],
             [
              0.7777777777777778,
              "#fb9f3a"
             ],
             [
              0.8888888888888888,
              "#fdca26"
             ],
             [
              1,
              "#f0f921"
             ]
            ],
            "type": "histogram2dcontour"
           }
          ],
          "mesh3d": [
           {
            "colorbar": {
             "outlinewidth": 0,
             "ticks": ""
            },
            "type": "mesh3d"
           }
          ],
          "parcoords": [
           {
            "line": {
             "colorbar": {
              "outlinewidth": 0,
              "ticks": ""
             }
            },
            "type": "parcoords"
           }
          ],
          "pie": [
           {
            "automargin": true,
            "type": "pie"
           }
          ],
          "scatter": [
           {
            "marker": {
             "colorbar": {
              "outlinewidth": 0,
              "ticks": ""
             }
            },
            "type": "scatter"
           }
          ],
          "scatter3d": [
           {
            "line": {
             "colorbar": {
              "outlinewidth": 0,
              "ticks": ""
             }
            },
            "marker": {
             "colorbar": {
              "outlinewidth": 0,
              "ticks": ""
             }
            },
            "type": "scatter3d"
           }
          ],
          "scattercarpet": [
           {
            "marker": {
             "colorbar": {
              "outlinewidth": 0,
              "ticks": ""
             }
            },
            "type": "scattercarpet"
           }
          ],
          "scattergeo": [
           {
            "marker": {
             "colorbar": {
              "outlinewidth": 0,
              "ticks": ""
             }
            },
            "type": "scattergeo"
           }
          ],
          "scattergl": [
           {
            "marker": {
             "colorbar": {
              "outlinewidth": 0,
              "ticks": ""
             }
            },
            "type": "scattergl"
           }
          ],
          "scattermapbox": [
           {
            "marker": {
             "colorbar": {
              "outlinewidth": 0,
              "ticks": ""
             }
            },
            "type": "scattermapbox"
           }
          ],
          "scatterpolar": [
           {
            "marker": {
             "colorbar": {
              "outlinewidth": 0,
              "ticks": ""
             }
            },
            "type": "scatterpolar"
           }
          ],
          "scatterpolargl": [
           {
            "marker": {
             "colorbar": {
              "outlinewidth": 0,
              "ticks": ""
             }
            },
            "type": "scatterpolargl"
           }
          ],
          "scatterternary": [
           {
            "marker": {
             "colorbar": {
              "outlinewidth": 0,
              "ticks": ""
             }
            },
            "type": "scatterternary"
           }
          ],
          "surface": [
           {
            "colorbar": {
             "outlinewidth": 0,
             "ticks": ""
            },
            "colorscale": [
             [
              0,
              "#0d0887"
             ],
             [
              0.1111111111111111,
              "#46039f"
             ],
             [
              0.2222222222222222,
              "#7201a8"
             ],
             [
              0.3333333333333333,
              "#9c179e"
             ],
             [
              0.4444444444444444,
              "#bd3786"
             ],
             [
              0.5555555555555556,
              "#d8576b"
             ],
             [
              0.6666666666666666,
              "#ed7953"
             ],
             [
              0.7777777777777778,
              "#fb9f3a"
             ],
             [
              0.8888888888888888,
              "#fdca26"
             ],
             [
              1,
              "#f0f921"
             ]
            ],
            "type": "surface"
           }
          ],
          "table": [
           {
            "cells": {
             "fill": {
              "color": "#EBF0F8"
             },
             "line": {
              "color": "white"
             }
            },
            "header": {
             "fill": {
              "color": "#C8D4E3"
             },
             "line": {
              "color": "white"
             }
            },
            "type": "table"
           }
          ]
         },
         "layout": {
          "annotationdefaults": {
           "arrowcolor": "#2a3f5f",
           "arrowhead": 0,
           "arrowwidth": 1
          },
          "autotypenumbers": "strict",
          "coloraxis": {
           "colorbar": {
            "outlinewidth": 0,
            "ticks": ""
           }
          },
          "colorscale": {
           "diverging": [
            [
             0,
             "#8e0152"
            ],
            [
             0.1,
             "#c51b7d"
            ],
            [
             0.2,
             "#de77ae"
            ],
            [
             0.3,
             "#f1b6da"
            ],
            [
             0.4,
             "#fde0ef"
            ],
            [
             0.5,
             "#f7f7f7"
            ],
            [
             0.6,
             "#e6f5d0"
            ],
            [
             0.7,
             "#b8e186"
            ],
            [
             0.8,
             "#7fbc41"
            ],
            [
             0.9,
             "#4d9221"
            ],
            [
             1,
             "#276419"
            ]
           ],
           "sequential": [
            [
             0,
             "#0d0887"
            ],
            [
             0.1111111111111111,
             "#46039f"
            ],
            [
             0.2222222222222222,
             "#7201a8"
            ],
            [
             0.3333333333333333,
             "#9c179e"
            ],
            [
             0.4444444444444444,
             "#bd3786"
            ],
            [
             0.5555555555555556,
             "#d8576b"
            ],
            [
             0.6666666666666666,
             "#ed7953"
            ],
            [
             0.7777777777777778,
             "#fb9f3a"
            ],
            [
             0.8888888888888888,
             "#fdca26"
            ],
            [
             1,
             "#f0f921"
            ]
           ],
           "sequentialminus": [
            [
             0,
             "#0d0887"
            ],
            [
             0.1111111111111111,
             "#46039f"
            ],
            [
             0.2222222222222222,
             "#7201a8"
            ],
            [
             0.3333333333333333,
             "#9c179e"
            ],
            [
             0.4444444444444444,
             "#bd3786"
            ],
            [
             0.5555555555555556,
             "#d8576b"
            ],
            [
             0.6666666666666666,
             "#ed7953"
            ],
            [
             0.7777777777777778,
             "#fb9f3a"
            ],
            [
             0.8888888888888888,
             "#fdca26"
            ],
            [
             1,
             "#f0f921"
            ]
           ]
          },
          "colorway": [
           "#636efa",
           "#EF553B",
           "#00cc96",
           "#ab63fa",
           "#FFA15A",
           "#19d3f3",
           "#FF6692",
           "#B6E880",
           "#FF97FF",
           "#FECB52"
          ],
          "font": {
           "color": "#2a3f5f"
          },
          "geo": {
           "bgcolor": "white",
           "lakecolor": "white",
           "landcolor": "#E5ECF6",
           "showlakes": true,
           "showland": true,
           "subunitcolor": "white"
          },
          "hoverlabel": {
           "align": "left"
          },
          "hovermode": "closest",
          "mapbox": {
           "style": "light"
          },
          "paper_bgcolor": "white",
          "plot_bgcolor": "#E5ECF6",
          "polar": {
           "angularaxis": {
            "gridcolor": "white",
            "linecolor": "white",
            "ticks": ""
           },
           "bgcolor": "#E5ECF6",
           "radialaxis": {
            "gridcolor": "white",
            "linecolor": "white",
            "ticks": ""
           }
          },
          "scene": {
           "xaxis": {
            "backgroundcolor": "#E5ECF6",
            "gridcolor": "white",
            "gridwidth": 2,
            "linecolor": "white",
            "showbackground": true,
            "ticks": "",
            "zerolinecolor": "white"
           },
           "yaxis": {
            "backgroundcolor": "#E5ECF6",
            "gridcolor": "white",
            "gridwidth": 2,
            "linecolor": "white",
            "showbackground": true,
            "ticks": "",
            "zerolinecolor": "white"
           },
           "zaxis": {
            "backgroundcolor": "#E5ECF6",
            "gridcolor": "white",
            "gridwidth": 2,
            "linecolor": "white",
            "showbackground": true,
            "ticks": "",
            "zerolinecolor": "white"
           }
          },
          "shapedefaults": {
           "line": {
            "color": "#2a3f5f"
           }
          },
          "ternary": {
           "aaxis": {
            "gridcolor": "white",
            "linecolor": "white",
            "ticks": ""
           },
           "baxis": {
            "gridcolor": "white",
            "linecolor": "white",
            "ticks": ""
           },
           "bgcolor": "#E5ECF6",
           "caxis": {
            "gridcolor": "white",
            "linecolor": "white",
            "ticks": ""
           }
          },
          "title": {
           "x": 0.05
          },
          "xaxis": {
           "automargin": true,
           "gridcolor": "white",
           "linecolor": "white",
           "ticks": "",
           "title": {
            "standoff": 15
           },
           "zerolinecolor": "white",
           "zerolinewidth": 2
          },
          "yaxis": {
           "automargin": true,
           "gridcolor": "white",
           "linecolor": "white",
           "ticks": "",
           "title": {
            "standoff": 15
           },
           "zerolinecolor": "white",
           "zerolinewidth": 2
          }
         }
        },
        "xaxis": {
         "anchor": "y",
         "domain": [
          0,
          1
         ],
         "title": {
          "text": "Rule Index"
         }
        },
        "yaxis": {
         "anchor": "x",
         "domain": [
          0,
          1
         ],
         "title": {
          "text": "Lift"
         }
        }
       }
      }
     },
     "metadata": {}
    }
   ],
   "source": [
    "fig = px.scatter(retail_joined, y=['lift_apriori', 'lift_eclat'], labels={'index':'Rule Index', 'value':'Lift', 'variable': 'algorithm', 'lift_apriori':'Apriori', 'lift_eclat': 'ECLAT'})\n",
    "fig.show()"
   ]
  },
  {
   "cell_type": "code",
   "execution_count": 15,
   "metadata": {},
   "outputs": [
    {
     "output_type": "stream",
     "name": "stdout",
     "text": [
      "Apriori\nAverage Lift:  3.8012644977040133\nMax Lift:  15.379807692307693\nMin Lift:  1.831997084548105\n\n\nEclat\nAverage Lift:  3.8012644977040133\nMax Lift:  15.379807692307693\nMin Lift:  1.831997084548105\n"
     ]
    }
   ],
   "source": [
    "print(\"Apriori\")\n",
    "print(\"Average Lift: \", retail_joined['lift_apriori'].mean())\n",
    "print(\"Max Lift: \", retail_joined['lift_apriori'].max())\n",
    "print(\"Min Lift: \", retail_joined['lift_apriori'].min())\n",
    "\n",
    "print(\"\\n\\nEclat\")\n",
    "print(\"Average Lift: \", retail_joined['lift_eclat'].mean())\n",
    "print(\"Max Lift: \", retail_joined['lift_eclat'].max())\n",
    "print(\"Min Lift: \", retail_joined['lift_eclat'].min())"
   ]
  },
  {
   "cell_type": "code",
   "execution_count": 16,
   "metadata": {},
   "outputs": [
    {
     "output_type": "display_data",
     "data": {
      "application/vnd.plotly.v1+json": {
       "config": {
        "plotlyServerURL": "https://plot.ly"
       },
       "data": [
        {
         "hovertemplate": "algorithm=lift_apriori<br>Rule Index=%{x}<br>Lift=%{y}<extra></extra>",
         "legendgroup": "lift_apriori",
         "marker": {
          "color": "#636efa",
          "symbol": "circle"
         },
         "mode": "markers",
         "name": "lift_apriori",
         "orientation": "v",
         "showlegend": true,
         "type": "scatter",
         "x": [
          0,
          1,
          2,
          3,
          4,
          5,
          6,
          7,
          8,
          9,
          10,
          11,
          12,
          13,
          14,
          15,
          16,
          17,
          18,
          19,
          20,
          21,
          22,
          23,
          24,
          25,
          26,
          27,
          28,
          29,
          30,
          31,
          32,
          33,
          34,
          35,
          36,
          37,
          38,
          39,
          40,
          41,
          42,
          43,
          44,
          45,
          46,
          47,
          48,
          49,
          50,
          51,
          52,
          53,
          54,
          55,
          56,
          57,
          58,
          59,
          60,
          61,
          62,
          63,
          64,
          65,
          66,
          67,
          68,
          69,
          70,
          71,
          72,
          73,
          74,
          75,
          76,
          77,
          78,
          79,
          80,
          81,
          82,
          83,
          84,
          85,
          86,
          87,
          88,
          89,
          90,
          91,
          92,
          93,
          94,
          95,
          96,
          97,
          98,
          99,
          100,
          101,
          102,
          103,
          104,
          105,
          106,
          107,
          108,
          109,
          110,
          111,
          112,
          113,
          114,
          115,
          116,
          117,
          118,
          119,
          120,
          121,
          122,
          123,
          124,
          125,
          126,
          127,
          128,
          129,
          130,
          131,
          132,
          133,
          134,
          135,
          136,
          137,
          138,
          139,
          140,
          141,
          142,
          143,
          144,
          145,
          146,
          147,
          148,
          149
         ],
         "xaxis": "x",
         "y": [
          1.1945448326120258,
          1.7695852534562215,
          1.2287538889798593,
          1.3268080073617792,
          1.2817839599374192,
          9.563218390804597,
          1.9775287976253277,
          2.171332527968906,
          1.756205558121252,
          1.0484974049650966,
          1.5929856078938724,
          1.6284349800360134,
          0.9287865703393222,
          3.490503807448139,
          3.9303894498738283,
          1.977528797625328,
          3.9303894498738283,
          3.17895656631935,
          3.230342158824391,
          3.8829521621891545,
          3.6064820046055117,
          3.184662997376833,
          1.088163994460498,
          1.702445947892941,
          1.7669516763713178,
          1.197364774108266,
          0.9296178926786043,
          2.171332527968906,
          1.094517491387075,
          1.7226641581971742,
          1.6747363773874402,
          0.9400072822292189,
          3.19751763880167,
          3.2167097839680014,
          3.0130502576522558,
          3.214484516450356,
          1.7562055581212521,
          3.490503807448139,
          3.17895656631935,
          3.19751763880167,
          3.216709783968001,
          3.0130502576522553,
          3.214484516450356,
          1.0771068187595896,
          1.0995389153532595,
          1.4103378843010146,
          1.4762070618821874,
          1.2037841398337041,
          0.9383229323454192,
          3.2303421588243912,
          1.415237641782563,
          3.8829521621891545,
          3.6064820046055117,
          3.184662997376833,
          1.62456022503784,
          1.6826363709612442,
          1.0419026514468295,
          1.1945448326120258,
          1.326808007361779,
          1.0484974049650966,
          1.0881639944604977,
          1.094517491387075,
          1.0771068187595894,
          1.62456022503784,
          1.0912386130586158,
          1.154803795972838,
          1.1231846007518187,
          1.131365875642998,
          1.484852540936064,
          1.0741091332964816,
          1.1127064626373062,
          1.3198417898133994,
          1.4909786004009509,
          1.725419146141044,
          1.386364859709848,
          1.0263080784795862,
          2.0668362216833267,
          1.3281708384386488,
          2.1612688548194368,
          1.5108154464713521,
          1.3677245401895644,
          1.0995389153532595,
          1.0760378283204153,
          1.2125914036026397,
          1.4709317005428608,
          3.010458488228005,
          1.0912386130586158,
          1.8539357138878056,
          2.0053232388951323,
          1.0873913297158528,
          1.154803795972838,
          1.5929856078938724,
          1.702445947892941,
          1.722664158197174,
          1.4103378843010146,
          1.1231846007518187,
          2.1612688548194368,
          1.0760378283204153,
          1.8539357138878056,
          2.0518902562368893,
          1.1586284511081664,
          1.004666114496117,
          1.131365875642998,
          1.484852540936064,
          1.6284349800360132,
          1.7669516763713176,
          1.6747363773874402,
          1.4762070618821874,
          1.0741091332964816,
          2.0668362216833267,
          2.005323238895132,
          2.0518902562368897,
          1.1499990363674908,
          0.9815848360049109,
          1.7695852534562215,
          1.6826363709612442,
          1.1127064626373064,
          1.2125914036026395,
          1.2737088067037305,
          1.3198417898133994,
          1.197364774108266,
          1.2037841398337041,
          1.490978600400951,
          1.4709317005428608,
          1.1586284511081666,
          1.1499990363674908,
          1.1818855871784637,
          1.2100873907615481,
          1.7254191461410442,
          1.2287538889798593,
          1.2817839599374194,
          0.9287865703393222,
          0.9296178926786043,
          0.9400072822292189,
          0.9383229323454192,
          1.415237641782563,
          1.0419026514468295,
          1.386364859709848,
          1.3281708384386488,
          1.5108154464713524,
          1.3677245401895644,
          1.0873913297158528,
          1.004666114496117,
          0.9815848360049108,
          1.2737088067037305,
          1.1818855871784637,
          1.0263080784795864,
          3.010458488228005,
          1.2100873907615481,
          9.563218390804597
         ],
         "yaxis": "y"
        },
        {
         "hovertemplate": "algorithm=lift_eclat<br>Rule Index=%{x}<br>Lift=%{y}<extra></extra>",
         "legendgroup": "lift_eclat",
         "marker": {
          "color": "#EF553B",
          "symbol": "circle"
         },
         "mode": "markers",
         "name": "lift_eclat",
         "orientation": "v",
         "showlegend": true,
         "type": "scatter",
         "x": [
          0,
          1,
          2,
          3,
          4,
          5,
          6,
          7,
          8,
          9,
          10,
          11,
          12,
          13,
          14,
          15,
          16,
          17,
          18,
          19,
          20,
          21,
          22,
          23,
          24,
          25,
          26,
          27,
          28,
          29,
          30,
          31,
          32,
          33,
          34,
          35,
          36,
          37,
          38,
          39,
          40,
          41,
          42,
          43,
          44,
          45,
          46,
          47,
          48,
          49,
          50,
          51,
          52,
          53,
          54,
          55,
          56,
          57,
          58,
          59,
          60,
          61,
          62,
          63,
          64,
          65,
          66,
          67,
          68,
          69,
          70,
          71,
          72,
          73,
          74,
          75,
          76,
          77,
          78,
          79,
          80,
          81,
          82,
          83,
          84,
          85,
          86,
          87,
          88,
          89,
          90,
          91,
          92,
          93,
          94,
          95,
          96,
          97,
          98,
          99,
          100,
          101,
          102,
          103,
          104,
          105,
          106,
          107,
          108,
          109,
          110,
          111,
          112,
          113,
          114,
          115,
          116,
          117,
          118,
          119,
          120,
          121,
          122,
          123,
          124,
          125,
          126,
          127,
          128,
          129,
          130,
          131,
          132,
          133,
          134,
          135,
          136,
          137,
          138,
          139,
          140,
          141,
          142,
          143,
          144,
          145,
          146,
          147,
          148,
          149
         ],
         "xaxis": "x",
         "y": [
          1.1945448326120258,
          1.7695852534562215,
          1.2287538889798593,
          1.3268080073617792,
          1.2817839599374192,
          9.563218390804597,
          1.9775287976253277,
          2.171332527968906,
          1.756205558121252,
          1.0484974049650966,
          1.5929856078938724,
          1.6284349800360134,
          0.9287865703393222,
          3.490503807448139,
          3.9303894498738283,
          1.977528797625328,
          3.9303894498738283,
          3.17895656631935,
          3.230342158824391,
          3.8829521621891545,
          3.6064820046055117,
          3.184662997376833,
          1.088163994460498,
          1.702445947892941,
          1.7669516763713178,
          1.197364774108266,
          0.9296178926786043,
          2.171332527968906,
          1.094517491387075,
          1.7226641581971742,
          1.6747363773874402,
          0.9400072822292189,
          3.19751763880167,
          3.2167097839680014,
          3.0130502576522558,
          3.214484516450356,
          1.7562055581212521,
          3.490503807448139,
          3.17895656631935,
          3.19751763880167,
          3.216709783968001,
          3.0130502576522553,
          3.214484516450356,
          1.0771068187595896,
          1.0995389153532595,
          1.4103378843010146,
          1.4762070618821874,
          1.2037841398337041,
          0.9383229323454192,
          3.2303421588243912,
          1.415237641782563,
          3.8829521621891545,
          3.6064820046055117,
          3.184662997376833,
          1.62456022503784,
          1.6826363709612442,
          1.0419026514468295,
          1.1945448326120258,
          1.326808007361779,
          1.0484974049650966,
          1.0881639944604977,
          1.094517491387075,
          1.0771068187595894,
          1.62456022503784,
          1.0912386130586158,
          1.154803795972838,
          1.1231846007518187,
          1.131365875642998,
          1.484852540936064,
          1.0741091332964816,
          1.1127064626373062,
          1.3198417898133994,
          1.4909786004009509,
          1.725419146141044,
          1.386364859709848,
          1.0263080784795862,
          2.0668362216833267,
          1.3281708384386488,
          2.1612688548194368,
          1.5108154464713521,
          1.3677245401895644,
          1.0995389153532595,
          1.0760378283204153,
          1.2125914036026397,
          1.4709317005428608,
          3.010458488228005,
          1.0912386130586158,
          1.8539357138878056,
          2.0053232388951323,
          1.0873913297158528,
          1.154803795972838,
          1.5929856078938724,
          1.702445947892941,
          1.722664158197174,
          1.4103378843010146,
          1.1231846007518187,
          2.1612688548194368,
          1.0760378283204153,
          1.8539357138878056,
          2.0518902562368893,
          1.1586284511081664,
          1.004666114496117,
          1.131365875642998,
          1.484852540936064,
          1.6284349800360132,
          1.7669516763713176,
          1.6747363773874402,
          1.4762070618821874,
          1.0741091332964816,
          2.0668362216833267,
          2.005323238895132,
          2.0518902562368897,
          1.1499990363674908,
          0.9815848360049109,
          1.7695852534562215,
          1.6826363709612442,
          1.1127064626373064,
          1.2125914036026395,
          1.2737088067037305,
          1.3198417898133994,
          1.197364774108266,
          1.2037841398337041,
          1.490978600400951,
          1.4709317005428608,
          1.1586284511081666,
          1.1499990363674908,
          1.1818855871784637,
          1.2100873907615481,
          1.7254191461410442,
          1.2287538889798593,
          1.2817839599374194,
          0.9287865703393222,
          0.9296178926786043,
          0.9400072822292189,
          0.9383229323454192,
          1.415237641782563,
          1.0419026514468295,
          1.386364859709848,
          1.3281708384386488,
          1.5108154464713524,
          1.3677245401895644,
          1.0873913297158528,
          1.004666114496117,
          0.9815848360049108,
          1.2737088067037305,
          1.1818855871784637,
          1.0263080784795864,
          3.010458488228005,
          1.2100873907615481,
          9.563218390804597
         ],
         "yaxis": "y"
        }
       ],
       "layout": {
        "legend": {
         "title": {
          "text": "algorithm"
         },
         "tracegroupgap": 0
        },
        "margin": {
         "t": 60
        },
        "template": {
         "data": {
          "bar": [
           {
            "error_x": {
             "color": "#2a3f5f"
            },
            "error_y": {
             "color": "#2a3f5f"
            },
            "marker": {
             "line": {
              "color": "#E5ECF6",
              "width": 0.5
             }
            },
            "type": "bar"
           }
          ],
          "barpolar": [
           {
            "marker": {
             "line": {
              "color": "#E5ECF6",
              "width": 0.5
             }
            },
            "type": "barpolar"
           }
          ],
          "carpet": [
           {
            "aaxis": {
             "endlinecolor": "#2a3f5f",
             "gridcolor": "white",
             "linecolor": "white",
             "minorgridcolor": "white",
             "startlinecolor": "#2a3f5f"
            },
            "baxis": {
             "endlinecolor": "#2a3f5f",
             "gridcolor": "white",
             "linecolor": "white",
             "minorgridcolor": "white",
             "startlinecolor": "#2a3f5f"
            },
            "type": "carpet"
           }
          ],
          "choropleth": [
           {
            "colorbar": {
             "outlinewidth": 0,
             "ticks": ""
            },
            "type": "choropleth"
           }
          ],
          "contour": [
           {
            "colorbar": {
             "outlinewidth": 0,
             "ticks": ""
            },
            "colorscale": [
             [
              0,
              "#0d0887"
             ],
             [
              0.1111111111111111,
              "#46039f"
             ],
             [
              0.2222222222222222,
              "#7201a8"
             ],
             [
              0.3333333333333333,
              "#9c179e"
             ],
             [
              0.4444444444444444,
              "#bd3786"
             ],
             [
              0.5555555555555556,
              "#d8576b"
             ],
             [
              0.6666666666666666,
              "#ed7953"
             ],
             [
              0.7777777777777778,
              "#fb9f3a"
             ],
             [
              0.8888888888888888,
              "#fdca26"
             ],
             [
              1,
              "#f0f921"
             ]
            ],
            "type": "contour"
           }
          ],
          "contourcarpet": [
           {
            "colorbar": {
             "outlinewidth": 0,
             "ticks": ""
            },
            "type": "contourcarpet"
           }
          ],
          "heatmap": [
           {
            "colorbar": {
             "outlinewidth": 0,
             "ticks": ""
            },
            "colorscale": [
             [
              0,
              "#0d0887"
             ],
             [
              0.1111111111111111,
              "#46039f"
             ],
             [
              0.2222222222222222,
              "#7201a8"
             ],
             [
              0.3333333333333333,
              "#9c179e"
             ],
             [
              0.4444444444444444,
              "#bd3786"
             ],
             [
              0.5555555555555556,
              "#d8576b"
             ],
             [
              0.6666666666666666,
              "#ed7953"
             ],
             [
              0.7777777777777778,
              "#fb9f3a"
             ],
             [
              0.8888888888888888,
              "#fdca26"
             ],
             [
              1,
              "#f0f921"
             ]
            ],
            "type": "heatmap"
           }
          ],
          "heatmapgl": [
           {
            "colorbar": {
             "outlinewidth": 0,
             "ticks": ""
            },
            "colorscale": [
             [
              0,
              "#0d0887"
             ],
             [
              0.1111111111111111,
              "#46039f"
             ],
             [
              0.2222222222222222,
              "#7201a8"
             ],
             [
              0.3333333333333333,
              "#9c179e"
             ],
             [
              0.4444444444444444,
              "#bd3786"
             ],
             [
              0.5555555555555556,
              "#d8576b"
             ],
             [
              0.6666666666666666,
              "#ed7953"
             ],
             [
              0.7777777777777778,
              "#fb9f3a"
             ],
             [
              0.8888888888888888,
              "#fdca26"
             ],
             [
              1,
              "#f0f921"
             ]
            ],
            "type": "heatmapgl"
           }
          ],
          "histogram": [
           {
            "marker": {
             "colorbar": {
              "outlinewidth": 0,
              "ticks": ""
             }
            },
            "type": "histogram"
           }
          ],
          "histogram2d": [
           {
            "colorbar": {
             "outlinewidth": 0,
             "ticks": ""
            },
            "colorscale": [
             [
              0,
              "#0d0887"
             ],
             [
              0.1111111111111111,
              "#46039f"
             ],
             [
              0.2222222222222222,
              "#7201a8"
             ],
             [
              0.3333333333333333,
              "#9c179e"
             ],
             [
              0.4444444444444444,
              "#bd3786"
             ],
             [
              0.5555555555555556,
              "#d8576b"
             ],
             [
              0.6666666666666666,
              "#ed7953"
             ],
             [
              0.7777777777777778,
              "#fb9f3a"
             ],
             [
              0.8888888888888888,
              "#fdca26"
             ],
             [
              1,
              "#f0f921"
             ]
            ],
            "type": "histogram2d"
           }
          ],
          "histogram2dcontour": [
           {
            "colorbar": {
             "outlinewidth": 0,
             "ticks": ""
            },
            "colorscale": [
             [
              0,
              "#0d0887"
             ],
             [
              0.1111111111111111,
              "#46039f"
             ],
             [
              0.2222222222222222,
              "#7201a8"
             ],
             [
              0.3333333333333333,
              "#9c179e"
             ],
             [
              0.4444444444444444,
              "#bd3786"
             ],
             [
              0.5555555555555556,
              "#d8576b"
             ],
             [
              0.6666666666666666,
              "#ed7953"
             ],
             [
              0.7777777777777778,
              "#fb9f3a"
             ],
             [
              0.8888888888888888,
              "#fdca26"
             ],
             [
              1,
              "#f0f921"
             ]
            ],
            "type": "histogram2dcontour"
           }
          ],
          "mesh3d": [
           {
            "colorbar": {
             "outlinewidth": 0,
             "ticks": ""
            },
            "type": "mesh3d"
           }
          ],
          "parcoords": [
           {
            "line": {
             "colorbar": {
              "outlinewidth": 0,
              "ticks": ""
             }
            },
            "type": "parcoords"
           }
          ],
          "pie": [
           {
            "automargin": true,
            "type": "pie"
           }
          ],
          "scatter": [
           {
            "marker": {
             "colorbar": {
              "outlinewidth": 0,
              "ticks": ""
             }
            },
            "type": "scatter"
           }
          ],
          "scatter3d": [
           {
            "line": {
             "colorbar": {
              "outlinewidth": 0,
              "ticks": ""
             }
            },
            "marker": {
             "colorbar": {
              "outlinewidth": 0,
              "ticks": ""
             }
            },
            "type": "scatter3d"
           }
          ],
          "scattercarpet": [
           {
            "marker": {
             "colorbar": {
              "outlinewidth": 0,
              "ticks": ""
             }
            },
            "type": "scattercarpet"
           }
          ],
          "scattergeo": [
           {
            "marker": {
             "colorbar": {
              "outlinewidth": 0,
              "ticks": ""
             }
            },
            "type": "scattergeo"
           }
          ],
          "scattergl": [
           {
            "marker": {
             "colorbar": {
              "outlinewidth": 0,
              "ticks": ""
             }
            },
            "type": "scattergl"
           }
          ],
          "scattermapbox": [
           {
            "marker": {
             "colorbar": {
              "outlinewidth": 0,
              "ticks": ""
             }
            },
            "type": "scattermapbox"
           }
          ],
          "scatterpolar": [
           {
            "marker": {
             "colorbar": {
              "outlinewidth": 0,
              "ticks": ""
             }
            },
            "type": "scatterpolar"
           }
          ],
          "scatterpolargl": [
           {
            "marker": {
             "colorbar": {
              "outlinewidth": 0,
              "ticks": ""
             }
            },
            "type": "scatterpolargl"
           }
          ],
          "scatterternary": [
           {
            "marker": {
             "colorbar": {
              "outlinewidth": 0,
              "ticks": ""
             }
            },
            "type": "scatterternary"
           }
          ],
          "surface": [
           {
            "colorbar": {
             "outlinewidth": 0,
             "ticks": ""
            },
            "colorscale": [
             [
              0,
              "#0d0887"
             ],
             [
              0.1111111111111111,
              "#46039f"
             ],
             [
              0.2222222222222222,
              "#7201a8"
             ],
             [
              0.3333333333333333,
              "#9c179e"
             ],
             [
              0.4444444444444444,
              "#bd3786"
             ],
             [
              0.5555555555555556,
              "#d8576b"
             ],
             [
              0.6666666666666666,
              "#ed7953"
             ],
             [
              0.7777777777777778,
              "#fb9f3a"
             ],
             [
              0.8888888888888888,
              "#fdca26"
             ],
             [
              1,
              "#f0f921"
             ]
            ],
            "type": "surface"
           }
          ],
          "table": [
           {
            "cells": {
             "fill": {
              "color": "#EBF0F8"
             },
             "line": {
              "color": "white"
             }
            },
            "header": {
             "fill": {
              "color": "#C8D4E3"
             },
             "line": {
              "color": "white"
             }
            },
            "type": "table"
           }
          ]
         },
         "layout": {
          "annotationdefaults": {
           "arrowcolor": "#2a3f5f",
           "arrowhead": 0,
           "arrowwidth": 1
          },
          "autotypenumbers": "strict",
          "coloraxis": {
           "colorbar": {
            "outlinewidth": 0,
            "ticks": ""
           }
          },
          "colorscale": {
           "diverging": [
            [
             0,
             "#8e0152"
            ],
            [
             0.1,
             "#c51b7d"
            ],
            [
             0.2,
             "#de77ae"
            ],
            [
             0.3,
             "#f1b6da"
            ],
            [
             0.4,
             "#fde0ef"
            ],
            [
             0.5,
             "#f7f7f7"
            ],
            [
             0.6,
             "#e6f5d0"
            ],
            [
             0.7,
             "#b8e186"
            ],
            [
             0.8,
             "#7fbc41"
            ],
            [
             0.9,
             "#4d9221"
            ],
            [
             1,
             "#276419"
            ]
           ],
           "sequential": [
            [
             0,
             "#0d0887"
            ],
            [
             0.1111111111111111,
             "#46039f"
            ],
            [
             0.2222222222222222,
             "#7201a8"
            ],
            [
             0.3333333333333333,
             "#9c179e"
            ],
            [
             0.4444444444444444,
             "#bd3786"
            ],
            [
             0.5555555555555556,
             "#d8576b"
            ],
            [
             0.6666666666666666,
             "#ed7953"
            ],
            [
             0.7777777777777778,
             "#fb9f3a"
            ],
            [
             0.8888888888888888,
             "#fdca26"
            ],
            [
             1,
             "#f0f921"
            ]
           ],
           "sequentialminus": [
            [
             0,
             "#0d0887"
            ],
            [
             0.1111111111111111,
             "#46039f"
            ],
            [
             0.2222222222222222,
             "#7201a8"
            ],
            [
             0.3333333333333333,
             "#9c179e"
            ],
            [
             0.4444444444444444,
             "#bd3786"
            ],
            [
             0.5555555555555556,
             "#d8576b"
            ],
            [
             0.6666666666666666,
             "#ed7953"
            ],
            [
             0.7777777777777778,
             "#fb9f3a"
            ],
            [
             0.8888888888888888,
             "#fdca26"
            ],
            [
             1,
             "#f0f921"
            ]
           ]
          },
          "colorway": [
           "#636efa",
           "#EF553B",
           "#00cc96",
           "#ab63fa",
           "#FFA15A",
           "#19d3f3",
           "#FF6692",
           "#B6E880",
           "#FF97FF",
           "#FECB52"
          ],
          "font": {
           "color": "#2a3f5f"
          },
          "geo": {
           "bgcolor": "white",
           "lakecolor": "white",
           "landcolor": "#E5ECF6",
           "showlakes": true,
           "showland": true,
           "subunitcolor": "white"
          },
          "hoverlabel": {
           "align": "left"
          },
          "hovermode": "closest",
          "mapbox": {
           "style": "light"
          },
          "paper_bgcolor": "white",
          "plot_bgcolor": "#E5ECF6",
          "polar": {
           "angularaxis": {
            "gridcolor": "white",
            "linecolor": "white",
            "ticks": ""
           },
           "bgcolor": "#E5ECF6",
           "radialaxis": {
            "gridcolor": "white",
            "linecolor": "white",
            "ticks": ""
           }
          },
          "scene": {
           "xaxis": {
            "backgroundcolor": "#E5ECF6",
            "gridcolor": "white",
            "gridwidth": 2,
            "linecolor": "white",
            "showbackground": true,
            "ticks": "",
            "zerolinecolor": "white"
           },
           "yaxis": {
            "backgroundcolor": "#E5ECF6",
            "gridcolor": "white",
            "gridwidth": 2,
            "linecolor": "white",
            "showbackground": true,
            "ticks": "",
            "zerolinecolor": "white"
           },
           "zaxis": {
            "backgroundcolor": "#E5ECF6",
            "gridcolor": "white",
            "gridwidth": 2,
            "linecolor": "white",
            "showbackground": true,
            "ticks": "",
            "zerolinecolor": "white"
           }
          },
          "shapedefaults": {
           "line": {
            "color": "#2a3f5f"
           }
          },
          "ternary": {
           "aaxis": {
            "gridcolor": "white",
            "linecolor": "white",
            "ticks": ""
           },
           "baxis": {
            "gridcolor": "white",
            "linecolor": "white",
            "ticks": ""
           },
           "bgcolor": "#E5ECF6",
           "caxis": {
            "gridcolor": "white",
            "linecolor": "white",
            "ticks": ""
           }
          },
          "title": {
           "x": 0.05
          },
          "xaxis": {
           "automargin": true,
           "gridcolor": "white",
           "linecolor": "white",
           "ticks": "",
           "title": {
            "standoff": 15
           },
           "zerolinecolor": "white",
           "zerolinewidth": 2
          },
          "yaxis": {
           "automargin": true,
           "gridcolor": "white",
           "linecolor": "white",
           "ticks": "",
           "title": {
            "standoff": 15
           },
           "zerolinecolor": "white",
           "zerolinewidth": 2
          }
         }
        },
        "xaxis": {
         "anchor": "y",
         "domain": [
          0,
          1
         ],
         "title": {
          "text": "Rule Index"
         }
        },
        "yaxis": {
         "anchor": "x",
         "domain": [
          0,
          1
         ],
         "title": {
          "text": "Lift"
         }
        }
       }
      }
     },
     "metadata": {}
    }
   ],
   "source": [
    "#fig = px.scatter(entree_joined, y=['lift_apriori', 'lift_eclat'], labels={'index':'Rule Index', 'value':'Lift'}, template='plotly_dark')\n",
    "fig = px.scatter(entree_joined, y=['lift_apriori', 'lift_eclat'], labels={'index':'Rule Index', 'value':'Lift', 'variable': 'algorithm', 'lift_apriori':'Apriori', 'lift_eclat': 'ECLAT'})\n",
    "fig.show()"
   ]
  },
  {
   "cell_type": "code",
   "execution_count": 17,
   "metadata": {},
   "outputs": [
    {
     "output_type": "stream",
     "name": "stdout",
     "text": [
      "Apriori\nAverage Lift:  1.799809745873609\nMax Lift:  9.563218390804597\nMin Lift:  0.9287865703393222\n\n\nEclat\nAverage Lift:  1.799809745873609\nMax Lift:  9.563218390804597\nMin Lift:  0.9287865703393222\n"
     ]
    }
   ],
   "source": [
    "print(\"Apriori\")\n",
    "print(\"Average Lift: \", entree_joined['lift_apriori'].mean())\n",
    "print(\"Max Lift: \", entree_joined['lift_apriori'].max())\n",
    "print(\"Min Lift: \", entree_joined['lift_apriori'].min())\n",
    "\n",
    "print(\"\\n\\nEclat\")\n",
    "print(\"Average Lift: \", entree_joined['lift_eclat'].mean())\n",
    "print(\"Max Lift: \", entree_joined['lift_eclat'].max())\n",
    "print(\"Min Lift: \", entree_joined['lift_eclat'].min())"
   ]
  },
  {
   "source": [
    "## Conviction\n"
   ],
   "cell_type": "markdown",
   "metadata": {}
  },
  {
   "cell_type": "code",
   "execution_count": 18,
   "metadata": {},
   "outputs": [
    {
     "output_type": "display_data",
     "data": {
      "application/vnd.plotly.v1+json": {
       "config": {
        "plotlyServerURL": "https://plot.ly"
       },
       "data": [
        {
         "hovertemplate": "algorithm=conviction_apriori<br>Rule Index=%{x}<br>Conviction=%{y}<extra></extra>",
         "legendgroup": "conviction_apriori",
         "marker": {
          "color": "#636efa",
          "symbol": "circle"
         },
         "mode": "markers",
         "name": "conviction_apriori",
         "orientation": "v",
         "showlegend": true,
         "type": "scatter",
         "x": [
          0,
          1,
          2,
          3,
          4,
          5,
          6,
          7,
          8,
          9,
          10,
          11,
          12,
          13,
          14,
          15,
          16,
          17,
          18,
          19,
          20,
          21,
          22,
          23,
          24,
          25,
          26,
          27,
          28,
          29,
          30,
          31,
          32,
          33,
          34,
          35,
          36,
          37,
          38,
          39,
          40,
          41,
          42,
          43,
          44,
          45,
          46,
          47,
          48,
          49,
          50,
          51,
          52,
          53,
          54,
          55,
          56,
          57,
          58,
          59,
          60,
          61,
          62,
          63,
          64,
          65,
          66,
          67,
          68,
          69,
          70,
          71,
          72,
          73,
          74,
          75,
          76,
          77,
          78,
          79,
          80,
          81,
          82,
          83,
          84,
          85,
          86,
          87,
          88,
          89,
          90,
          91,
          92,
          93,
          94,
          95,
          96,
          97,
          98,
          99,
          100,
          101,
          102,
          103,
          104,
          105,
          106,
          107,
          108,
          109,
          110,
          111,
          112,
          113,
          114,
          115,
          116,
          117,
          118,
          119,
          120,
          121,
          122,
          123,
          124,
          125,
          126,
          127,
          128,
          129,
          130,
          131,
          132,
          133,
          134,
          135,
          136,
          137,
          138,
          139,
          140,
          141,
          142,
          143,
          144,
          145,
          146,
          147,
          148,
          149
         ],
         "xaxis": "x",
         "y": [
          1.2689350328947369,
          1.5023395721925135,
          1.259087537091988,
          1.5528562730937188,
          1.3395432692307692,
          null,
          1.49637374060451,
          1.528376243879324,
          1.4252636796193499,
          1.0557802323534589,
          1.3355370960400548,
          1.3240494715208453,
          0.9397970085470085,
          57.723918269230666,
          178.81899038461682,
          1.4181361983025729,
          1.6163569857352356,
          7.130084361393323,
          1.7281198455540563,
          1.6352772887323945,
          1.5280969748642161,
          1.458053645326193,
          1.1062510543184887,
          1.4237185650887574,
          1.4258946645459807,
          1.1144818204303735,
          0.9404579530638855,
          1.5463253307202351,
          1.1147869022869026,
          1.441296203796204,
          1.3564344701024622,
          0.9487971629131325,
          7.522916666666681,
          7.9773737980769335,
          4.861157592407592,
          7.921886446886444,
          1.2954912387039894,
          1.486205013736264,
          3.8375062982868666,
          1.5846010220125786,
          1.4846800901703217,
          1.4061600199663724,
          1.3850585838003056,
          1.0917034697376267,
          1.054637392580172,
          1.2104382531816646,
          1.227681856187291,
          1.1186471765228991,
          0.9474351623147496,
          4.1127123397435925,
          1.5962310338743826,
          46.104687500000196,
          8.65740613553113,
          3.8662366717440984,
          3.1288852163461547,
          1.4216535276317883,
          1.0391696855248962,
          1.0490439412117578,
          1.0764979374854753,
          1.0148452871732407,
          1.0308405351809233,
          1.0286967255717256,
          1.0313786408386045,
          1.0986737064355112,
          1.0247234284532671,
          1.0357837493260245,
          1.0550650569997868,
          1.027882966090513,
          1.086922824329786,
          1.0297192130099453,
          1.0514904514817587,
          1.0769990185998692,
          1.3432529335071708,
          1.2076093650667512,
          1.532689081053175,
          1.0098477922046045,
          1.7107897225725097,
          1.4188500857878186,
          1.968539534499835,
          1.8501409948224854,
          1.4942862426035501,
          1.0408805771191092,
          1.0332883026064845,
          1.1017672671390761,
          1.3246871939941247,
          3.9250721153846144,
          1.1103653846153845,
          1.5669008875739645,
          1.6434357964869777,
          1.0853194495078382,
          1.2028535723382578,
          1.2178198562001377,
          1.3129739401223774,
          1.2711154869067103,
          1.193184579197684,
          1.1549979382216222,
          1.2758798429565548,
          1.0412059807200473,
          1.2916772376699817,
          1.6939218338695523,
          1.0899907321594067,
          1.0042150645964205,
          1.1670113277133825,
          2.119539835164835,
          1.2338869463869462,
          1.3518260272336358,
          1.248663714925851,
          1.2313703693214004,
          1.0878251986804617,
          1.2906043771911735,
          1.3621108396773094,
          1.8039711114876313,
          1.0846806658687846,
          0.9837046967455622,
          1.2269021739130437,
          1.2686789628577229,
          1.1399683728369931,
          1.1244129005323036,
          1.3266346153846154,
          1.5347695553391756,
          1.071781947890819,
          1.0874375358400918,
          2.1499514680902694,
          1.3246871939941247,
          1.0720504575810041,
          1.0620406536468712,
          1.19562016930438,
          1.0844507788662279,
          4.768109975961537,
          1.0581695536309128,
          1.0652709905302071,
          0.9789717882376355,
          0.9766734344672593,
          0.9826016199562713,
          0.9762422917441923,
          1.0851200821117324,
          1.0131709387310803,
          1.7268376655395892,
          1.0744192028249162,
          1.1222040960076551,
          1.1538480723187428,
          1.023656246841201,
          1.001980866707514,
          0.992879363283775,
          1.1349729815638907,
          1.1045642337202441,
          1.029505717752611,
          1.4257746892845147,
          1.1227675965915724,
          389.6177884615314
         ],
         "yaxis": "y"
        },
        {
         "hovertemplate": "algorithm=conviction_eclat<br>Rule Index=%{x}<br>Conviction=%{y}<extra></extra>",
         "legendgroup": "conviction_eclat",
         "marker": {
          "color": "#EF553B",
          "symbol": "circle"
         },
         "mode": "markers",
         "name": "conviction_eclat",
         "orientation": "v",
         "showlegend": true,
         "type": "scatter",
         "x": [
          0,
          1,
          2,
          3,
          4,
          5,
          6,
          7,
          8,
          9,
          10,
          11,
          12,
          13,
          14,
          15,
          16,
          17,
          18,
          19,
          20,
          21,
          22,
          23,
          24,
          25,
          26,
          27,
          28,
          29,
          30,
          31,
          32,
          33,
          34,
          35,
          36,
          37,
          38,
          39,
          40,
          41,
          42,
          43,
          44,
          45,
          46,
          47,
          48,
          49,
          50,
          51,
          52,
          53,
          54,
          55,
          56,
          57,
          58,
          59,
          60,
          61,
          62,
          63,
          64,
          65,
          66,
          67,
          68,
          69,
          70,
          71,
          72,
          73,
          74,
          75,
          76,
          77,
          78,
          79,
          80,
          81,
          82,
          83,
          84,
          85,
          86,
          87,
          88,
          89,
          90,
          91,
          92,
          93,
          94,
          95,
          96,
          97,
          98,
          99,
          100,
          101,
          102,
          103,
          104,
          105,
          106,
          107,
          108,
          109,
          110,
          111,
          112,
          113,
          114,
          115,
          116,
          117,
          118,
          119,
          120,
          121,
          122,
          123,
          124,
          125,
          126,
          127,
          128,
          129,
          130,
          131,
          132,
          133,
          134,
          135,
          136,
          137,
          138,
          139,
          140,
          141,
          142,
          143,
          144,
          145,
          146,
          147,
          148,
          149
         ],
         "xaxis": "x",
         "y": [
          1.2689350328947369,
          1.5023395721925135,
          1.259087537091988,
          1.5528562730937188,
          1.3395432692307692,
          null,
          1.49637374060451,
          1.528376243879324,
          1.4252636796193499,
          1.0557802323534589,
          1.3355370960400548,
          1.3240494715208453,
          0.9397970085470085,
          57.723918269230666,
          178.81899038461682,
          1.4181361983025729,
          1.6163569857352356,
          7.130084361393323,
          1.7281198455540563,
          1.6352772887323945,
          1.5280969748642161,
          1.458053645326193,
          1.1062510543184887,
          1.4237185650887574,
          1.4258946645459807,
          1.1144818204303735,
          0.9404579530638855,
          1.5463253307202351,
          1.1147869022869026,
          1.441296203796204,
          1.3564344701024622,
          0.9487971629131325,
          7.522916666666681,
          7.9773737980769335,
          4.861157592407592,
          7.921886446886444,
          1.2954912387039894,
          1.486205013736264,
          3.8375062982868666,
          1.5846010220125786,
          1.4846800901703217,
          1.4061600199663724,
          1.3850585838003056,
          1.0917034697376267,
          1.054637392580172,
          1.2104382531816646,
          1.227681856187291,
          1.1186471765228991,
          0.9474351623147496,
          4.1127123397435925,
          1.5962310338743826,
          46.104687500000196,
          8.65740613553113,
          3.8662366717440984,
          3.1288852163461547,
          1.4216535276317883,
          1.0391696855248962,
          1.0490439412117578,
          1.0764979374854753,
          1.0148452871732407,
          1.0308405351809233,
          1.0286967255717256,
          1.0313786408386045,
          1.0986737064355112,
          1.0247234284532671,
          1.0357837493260245,
          1.0550650569997868,
          1.027882966090513,
          1.086922824329786,
          1.0297192130099453,
          1.0514904514817587,
          1.0769990185998692,
          1.3432529335071708,
          1.2076093650667512,
          1.532689081053175,
          1.0098477922046045,
          1.7107897225725097,
          1.4188500857878186,
          1.968539534499835,
          1.8501409948224854,
          1.4942862426035501,
          1.0408805771191092,
          1.0332883026064845,
          1.1017672671390761,
          1.3246871939941247,
          3.9250721153846144,
          1.1103653846153845,
          1.5669008875739645,
          1.6434357964869777,
          1.0853194495078382,
          1.2028535723382578,
          1.2178198562001377,
          1.3129739401223774,
          1.2711154869067103,
          1.193184579197684,
          1.1549979382216222,
          1.2758798429565548,
          1.0412059807200473,
          1.2916772376699817,
          1.6939218338695523,
          1.0899907321594067,
          1.0042150645964205,
          1.1670113277133825,
          2.119539835164835,
          1.2338869463869462,
          1.3518260272336358,
          1.248663714925851,
          1.2313703693214004,
          1.0878251986804617,
          1.2906043771911735,
          1.3621108396773094,
          1.8039711114876313,
          1.0846806658687846,
          0.9837046967455622,
          1.2269021739130437,
          1.2686789628577229,
          1.1399683728369931,
          1.1244129005323036,
          1.3266346153846154,
          1.5347695553391756,
          1.071781947890819,
          1.0874375358400918,
          2.1499514680902694,
          1.3246871939941247,
          1.0720504575810041,
          1.0620406536468712,
          1.19562016930438,
          1.0844507788662279,
          4.768109975961537,
          1.0581695536309128,
          1.0652709905302071,
          0.9789717882376355,
          0.9766734344672593,
          0.9826016199562713,
          0.9762422917441923,
          1.0851200821117324,
          1.0131709387310803,
          1.7268376655395892,
          1.0744192028249162,
          1.1222040960076551,
          1.1538480723187428,
          1.023656246841201,
          1.001980866707514,
          0.992879363283775,
          1.1349729815638907,
          1.1045642337202441,
          1.029505717752611,
          1.4257746892845147,
          1.1227675965915724,
          389.6177884615314
         ],
         "yaxis": "y"
        }
       ],
       "layout": {
        "legend": {
         "title": {
          "text": "algorithm"
         },
         "tracegroupgap": 0
        },
        "margin": {
         "t": 60
        },
        "template": {
         "data": {
          "bar": [
           {
            "error_x": {
             "color": "#2a3f5f"
            },
            "error_y": {
             "color": "#2a3f5f"
            },
            "marker": {
             "line": {
              "color": "#E5ECF6",
              "width": 0.5
             }
            },
            "type": "bar"
           }
          ],
          "barpolar": [
           {
            "marker": {
             "line": {
              "color": "#E5ECF6",
              "width": 0.5
             }
            },
            "type": "barpolar"
           }
          ],
          "carpet": [
           {
            "aaxis": {
             "endlinecolor": "#2a3f5f",
             "gridcolor": "white",
             "linecolor": "white",
             "minorgridcolor": "white",
             "startlinecolor": "#2a3f5f"
            },
            "baxis": {
             "endlinecolor": "#2a3f5f",
             "gridcolor": "white",
             "linecolor": "white",
             "minorgridcolor": "white",
             "startlinecolor": "#2a3f5f"
            },
            "type": "carpet"
           }
          ],
          "choropleth": [
           {
            "colorbar": {
             "outlinewidth": 0,
             "ticks": ""
            },
            "type": "choropleth"
           }
          ],
          "contour": [
           {
            "colorbar": {
             "outlinewidth": 0,
             "ticks": ""
            },
            "colorscale": [
             [
              0,
              "#0d0887"
             ],
             [
              0.1111111111111111,
              "#46039f"
             ],
             [
              0.2222222222222222,
              "#7201a8"
             ],
             [
              0.3333333333333333,
              "#9c179e"
             ],
             [
              0.4444444444444444,
              "#bd3786"
             ],
             [
              0.5555555555555556,
              "#d8576b"
             ],
             [
              0.6666666666666666,
              "#ed7953"
             ],
             [
              0.7777777777777778,
              "#fb9f3a"
             ],
             [
              0.8888888888888888,
              "#fdca26"
             ],
             [
              1,
              "#f0f921"
             ]
            ],
            "type": "contour"
           }
          ],
          "contourcarpet": [
           {
            "colorbar": {
             "outlinewidth": 0,
             "ticks": ""
            },
            "type": "contourcarpet"
           }
          ],
          "heatmap": [
           {
            "colorbar": {
             "outlinewidth": 0,
             "ticks": ""
            },
            "colorscale": [
             [
              0,
              "#0d0887"
             ],
             [
              0.1111111111111111,
              "#46039f"
             ],
             [
              0.2222222222222222,
              "#7201a8"
             ],
             [
              0.3333333333333333,
              "#9c179e"
             ],
             [
              0.4444444444444444,
              "#bd3786"
             ],
             [
              0.5555555555555556,
              "#d8576b"
             ],
             [
              0.6666666666666666,
              "#ed7953"
             ],
             [
              0.7777777777777778,
              "#fb9f3a"
             ],
             [
              0.8888888888888888,
              "#fdca26"
             ],
             [
              1,
              "#f0f921"
             ]
            ],
            "type": "heatmap"
           }
          ],
          "heatmapgl": [
           {
            "colorbar": {
             "outlinewidth": 0,
             "ticks": ""
            },
            "colorscale": [
             [
              0,
              "#0d0887"
             ],
             [
              0.1111111111111111,
              "#46039f"
             ],
             [
              0.2222222222222222,
              "#7201a8"
             ],
             [
              0.3333333333333333,
              "#9c179e"
             ],
             [
              0.4444444444444444,
              "#bd3786"
             ],
             [
              0.5555555555555556,
              "#d8576b"
             ],
             [
              0.6666666666666666,
              "#ed7953"
             ],
             [
              0.7777777777777778,
              "#fb9f3a"
             ],
             [
              0.8888888888888888,
              "#fdca26"
             ],
             [
              1,
              "#f0f921"
             ]
            ],
            "type": "heatmapgl"
           }
          ],
          "histogram": [
           {
            "marker": {
             "colorbar": {
              "outlinewidth": 0,
              "ticks": ""
             }
            },
            "type": "histogram"
           }
          ],
          "histogram2d": [
           {
            "colorbar": {
             "outlinewidth": 0,
             "ticks": ""
            },
            "colorscale": [
             [
              0,
              "#0d0887"
             ],
             [
              0.1111111111111111,
              "#46039f"
             ],
             [
              0.2222222222222222,
              "#7201a8"
             ],
             [
              0.3333333333333333,
              "#9c179e"
             ],
             [
              0.4444444444444444,
              "#bd3786"
             ],
             [
              0.5555555555555556,
              "#d8576b"
             ],
             [
              0.6666666666666666,
              "#ed7953"
             ],
             [
              0.7777777777777778,
              "#fb9f3a"
             ],
             [
              0.8888888888888888,
              "#fdca26"
             ],
             [
              1,
              "#f0f921"
             ]
            ],
            "type": "histogram2d"
           }
          ],
          "histogram2dcontour": [
           {
            "colorbar": {
             "outlinewidth": 0,
             "ticks": ""
            },
            "colorscale": [
             [
              0,
              "#0d0887"
             ],
             [
              0.1111111111111111,
              "#46039f"
             ],
             [
              0.2222222222222222,
              "#7201a8"
             ],
             [
              0.3333333333333333,
              "#9c179e"
             ],
             [
              0.4444444444444444,
              "#bd3786"
             ],
             [
              0.5555555555555556,
              "#d8576b"
             ],
             [
              0.6666666666666666,
              "#ed7953"
             ],
             [
              0.7777777777777778,
              "#fb9f3a"
             ],
             [
              0.8888888888888888,
              "#fdca26"
             ],
             [
              1,
              "#f0f921"
             ]
            ],
            "type": "histogram2dcontour"
           }
          ],
          "mesh3d": [
           {
            "colorbar": {
             "outlinewidth": 0,
             "ticks": ""
            },
            "type": "mesh3d"
           }
          ],
          "parcoords": [
           {
            "line": {
             "colorbar": {
              "outlinewidth": 0,
              "ticks": ""
             }
            },
            "type": "parcoords"
           }
          ],
          "pie": [
           {
            "automargin": true,
            "type": "pie"
           }
          ],
          "scatter": [
           {
            "marker": {
             "colorbar": {
              "outlinewidth": 0,
              "ticks": ""
             }
            },
            "type": "scatter"
           }
          ],
          "scatter3d": [
           {
            "line": {
             "colorbar": {
              "outlinewidth": 0,
              "ticks": ""
             }
            },
            "marker": {
             "colorbar": {
              "outlinewidth": 0,
              "ticks": ""
             }
            },
            "type": "scatter3d"
           }
          ],
          "scattercarpet": [
           {
            "marker": {
             "colorbar": {
              "outlinewidth": 0,
              "ticks": ""
             }
            },
            "type": "scattercarpet"
           }
          ],
          "scattergeo": [
           {
            "marker": {
             "colorbar": {
              "outlinewidth": 0,
              "ticks": ""
             }
            },
            "type": "scattergeo"
           }
          ],
          "scattergl": [
           {
            "marker": {
             "colorbar": {
              "outlinewidth": 0,
              "ticks": ""
             }
            },
            "type": "scattergl"
           }
          ],
          "scattermapbox": [
           {
            "marker": {
             "colorbar": {
              "outlinewidth": 0,
              "ticks": ""
             }
            },
            "type": "scattermapbox"
           }
          ],
          "scatterpolar": [
           {
            "marker": {
             "colorbar": {
              "outlinewidth": 0,
              "ticks": ""
             }
            },
            "type": "scatterpolar"
           }
          ],
          "scatterpolargl": [
           {
            "marker": {
             "colorbar": {
              "outlinewidth": 0,
              "ticks": ""
             }
            },
            "type": "scatterpolargl"
           }
          ],
          "scatterternary": [
           {
            "marker": {
             "colorbar": {
              "outlinewidth": 0,
              "ticks": ""
             }
            },
            "type": "scatterternary"
           }
          ],
          "surface": [
           {
            "colorbar": {
             "outlinewidth": 0,
             "ticks": ""
            },
            "colorscale": [
             [
              0,
              "#0d0887"
             ],
             [
              0.1111111111111111,
              "#46039f"
             ],
             [
              0.2222222222222222,
              "#7201a8"
             ],
             [
              0.3333333333333333,
              "#9c179e"
             ],
             [
              0.4444444444444444,
              "#bd3786"
             ],
             [
              0.5555555555555556,
              "#d8576b"
             ],
             [
              0.6666666666666666,
              "#ed7953"
             ],
             [
              0.7777777777777778,
              "#fb9f3a"
             ],
             [
              0.8888888888888888,
              "#fdca26"
             ],
             [
              1,
              "#f0f921"
             ]
            ],
            "type": "surface"
           }
          ],
          "table": [
           {
            "cells": {
             "fill": {
              "color": "#EBF0F8"
             },
             "line": {
              "color": "white"
             }
            },
            "header": {
             "fill": {
              "color": "#C8D4E3"
             },
             "line": {
              "color": "white"
             }
            },
            "type": "table"
           }
          ]
         },
         "layout": {
          "annotationdefaults": {
           "arrowcolor": "#2a3f5f",
           "arrowhead": 0,
           "arrowwidth": 1
          },
          "autotypenumbers": "strict",
          "coloraxis": {
           "colorbar": {
            "outlinewidth": 0,
            "ticks": ""
           }
          },
          "colorscale": {
           "diverging": [
            [
             0,
             "#8e0152"
            ],
            [
             0.1,
             "#c51b7d"
            ],
            [
             0.2,
             "#de77ae"
            ],
            [
             0.3,
             "#f1b6da"
            ],
            [
             0.4,
             "#fde0ef"
            ],
            [
             0.5,
             "#f7f7f7"
            ],
            [
             0.6,
             "#e6f5d0"
            ],
            [
             0.7,
             "#b8e186"
            ],
            [
             0.8,
             "#7fbc41"
            ],
            [
             0.9,
             "#4d9221"
            ],
            [
             1,
             "#276419"
            ]
           ],
           "sequential": [
            [
             0,
             "#0d0887"
            ],
            [
             0.1111111111111111,
             "#46039f"
            ],
            [
             0.2222222222222222,
             "#7201a8"
            ],
            [
             0.3333333333333333,
             "#9c179e"
            ],
            [
             0.4444444444444444,
             "#bd3786"
            ],
            [
             0.5555555555555556,
             "#d8576b"
            ],
            [
             0.6666666666666666,
             "#ed7953"
            ],
            [
             0.7777777777777778,
             "#fb9f3a"
            ],
            [
             0.8888888888888888,
             "#fdca26"
            ],
            [
             1,
             "#f0f921"
            ]
           ],
           "sequentialminus": [
            [
             0,
             "#0d0887"
            ],
            [
             0.1111111111111111,
             "#46039f"
            ],
            [
             0.2222222222222222,
             "#7201a8"
            ],
            [
             0.3333333333333333,
             "#9c179e"
            ],
            [
             0.4444444444444444,
             "#bd3786"
            ],
            [
             0.5555555555555556,
             "#d8576b"
            ],
            [
             0.6666666666666666,
             "#ed7953"
            ],
            [
             0.7777777777777778,
             "#fb9f3a"
            ],
            [
             0.8888888888888888,
             "#fdca26"
            ],
            [
             1,
             "#f0f921"
            ]
           ]
          },
          "colorway": [
           "#636efa",
           "#EF553B",
           "#00cc96",
           "#ab63fa",
           "#FFA15A",
           "#19d3f3",
           "#FF6692",
           "#B6E880",
           "#FF97FF",
           "#FECB52"
          ],
          "font": {
           "color": "#2a3f5f"
          },
          "geo": {
           "bgcolor": "white",
           "lakecolor": "white",
           "landcolor": "#E5ECF6",
           "showlakes": true,
           "showland": true,
           "subunitcolor": "white"
          },
          "hoverlabel": {
           "align": "left"
          },
          "hovermode": "closest",
          "mapbox": {
           "style": "light"
          },
          "paper_bgcolor": "white",
          "plot_bgcolor": "#E5ECF6",
          "polar": {
           "angularaxis": {
            "gridcolor": "white",
            "linecolor": "white",
            "ticks": ""
           },
           "bgcolor": "#E5ECF6",
           "radialaxis": {
            "gridcolor": "white",
            "linecolor": "white",
            "ticks": ""
           }
          },
          "scene": {
           "xaxis": {
            "backgroundcolor": "#E5ECF6",
            "gridcolor": "white",
            "gridwidth": 2,
            "linecolor": "white",
            "showbackground": true,
            "ticks": "",
            "zerolinecolor": "white"
           },
           "yaxis": {
            "backgroundcolor": "#E5ECF6",
            "gridcolor": "white",
            "gridwidth": 2,
            "linecolor": "white",
            "showbackground": true,
            "ticks": "",
            "zerolinecolor": "white"
           },
           "zaxis": {
            "backgroundcolor": "#E5ECF6",
            "gridcolor": "white",
            "gridwidth": 2,
            "linecolor": "white",
            "showbackground": true,
            "ticks": "",
            "zerolinecolor": "white"
           }
          },
          "shapedefaults": {
           "line": {
            "color": "#2a3f5f"
           }
          },
          "ternary": {
           "aaxis": {
            "gridcolor": "white",
            "linecolor": "white",
            "ticks": ""
           },
           "baxis": {
            "gridcolor": "white",
            "linecolor": "white",
            "ticks": ""
           },
           "bgcolor": "#E5ECF6",
           "caxis": {
            "gridcolor": "white",
            "linecolor": "white",
            "ticks": ""
           }
          },
          "title": {
           "x": 0.05
          },
          "xaxis": {
           "automargin": true,
           "gridcolor": "white",
           "linecolor": "white",
           "ticks": "",
           "title": {
            "standoff": 15
           },
           "zerolinecolor": "white",
           "zerolinewidth": 2
          },
          "yaxis": {
           "automargin": true,
           "gridcolor": "white",
           "linecolor": "white",
           "ticks": "",
           "title": {
            "standoff": 15
           },
           "zerolinecolor": "white",
           "zerolinewidth": 2
          }
         }
        },
        "xaxis": {
         "anchor": "y",
         "domain": [
          0,
          1
         ],
         "title": {
          "text": "Rule Index"
         }
        },
        "yaxis": {
         "anchor": "x",
         "domain": [
          0,
          1
         ],
         "title": {
          "text": "Conviction"
         }
        }
       }
      }
     },
     "metadata": {}
    }
   ],
   "source": [
    "fig = px.scatter(entree_joined, y=['conviction_apriori', 'conviction_eclat'], labels={'index':'Rule Index', 'value':'Conviction', 'variable': 'algorithm', 'lift_apriori':'Apriori', 'lift_eclat': 'ECLAT'})\n",
    "fig.show()"
   ]
  },
  {
   "cell_type": "code",
   "execution_count": 19,
   "metadata": {},
   "outputs": [
    {
     "output_type": "stream",
     "name": "stdout",
     "text": [
      "Apriori\nAverage Conviction:  inf\nMax Conviction:  inf\nMin Conviction:  0.9397970085470085\n\n\nEclat\nAverage Conviction:  inf\nMax Conviction:  inf\nMin Conviction:  0.9397970085470085\n"
     ]
    }
   ],
   "source": [
    "print(\"Apriori\")\n",
    "print(\"Average Conviction: \", entree_joined['conviction_apriori'].mean())\n",
    "print(\"Max Conviction: \", entree_joined['conviction_apriori'].max())\n",
    "print(\"Min Conviction: \", entree_joined['conviction_apriori'].min())\n",
    "\n",
    "print(\"\\n\\nEclat\")\n",
    "print(\"Average Conviction: \", entree_joined['conviction_eclat'].mean())\n",
    "print(\"Max Conviction: \", entree_joined['conviction_eclat'].max())\n",
    "print(\"Min Conviction: \", entree_joined['conviction_eclat'].min())"
   ]
  },
  {
   "cell_type": "code",
   "execution_count": 24,
   "metadata": {},
   "outputs": [
    {
     "output_type": "stream",
     "name": "stdout",
     "text": [
      "Mean without inf: \nApriori:  6.085571902478058\nECLAT:  6.085571902478058\n"
     ]
    }
   ],
   "source": [
    "t_apr =  entree_joined['conviction_apriori'].replace(np.inf, np.nan).dropna()\n",
    "t_ecl =  entree_joined['conviction_eclat'].replace(np.inf, np.nan).dropna()\n",
    "print(\"Mean without inf: \")\n",
    "print(\"Apriori: \", t_apr.mean())\n",
    "print(\"ECLAT: \", t_ecl.mean())"
   ]
  },
  {
   "cell_type": "code",
   "execution_count": 25,
   "metadata": {},
   "outputs": [
    {
     "output_type": "stream",
     "name": "stdout",
     "text": [
      "Max without outliers: \n"
     ]
    },
    {
     "output_type": "execute_result",
     "data": {
      "text/plain": [
       "8.65740613553113"
      ]
     },
     "metadata": {},
     "execution_count": 25
    }
   ],
   "source": [
    "print(\"Max without outliers: \")\n",
    "t_ecl[t_ecl<9].max()"
   ]
  },
  {
   "cell_type": "code",
   "execution_count": 23,
   "metadata": {},
   "outputs": [
    {
     "output_type": "display_data",
     "data": {
      "application/vnd.plotly.v1+json": {
       "config": {
        "plotlyServerURL": "https://plot.ly"
       },
       "data": [
        {
         "hovertemplate": "algorithm=conviction_apriori<br>Rule Index=%{x}<br>Conviction=%{y}<extra></extra>",
         "legendgroup": "conviction_apriori",
         "marker": {
          "color": "#636efa",
          "symbol": "circle"
         },
         "mode": "markers",
         "name": "conviction_apriori",
         "orientation": "v",
         "showlegend": true,
         "type": "scatter",
         "x": [
          0,
          1,
          2,
          3,
          4,
          5,
          6,
          7,
          8,
          9,
          10,
          11,
          12,
          13,
          14,
          15,
          16,
          17,
          18,
          19,
          20,
          21,
          22,
          23,
          24,
          25,
          26,
          27,
          28,
          29,
          30,
          31,
          32,
          33,
          34,
          35,
          36,
          37,
          38,
          39
         ],
         "xaxis": "x",
         "y": [
          1.447170990934667,
          2.312597686777117,
          1.7656819839533184,
          1.673413566739606,
          1.5263640855509282,
          1.5899625891155502,
          2.0769842848617466,
          1.4883296863603208,
          1.4818867007050815,
          1.6043439500769918,
          2.0116703136396787,
          1.3700461949914906,
          2.828884026258206,
          1.7404266958424508,
          1.6070021881838072,
          1.2944975182793403,
          1.640006036369124,
          5.587746170678341,
          1.4442013129102846,
          1.2845633578675155,
          1.2989773589961149,
          1.2414879649890591,
          4.529540481400436,
          1.2325910670613978,
          1.1512900106864792,
          1.111013858497447,
          1.2379509622398026,
          1.1122706615047973,
          1.8145093418616391,
          1.2560175054704594,
          1.1214917705261156,
          1.1781392528538661,
          7.544857768052516,
          4.92691466083151,
          2.3654266958424506,
          1.6985776805251638,
          1.4489423778264043,
          1.7399590597868286,
          1.320598497841386,
          1.5098468271334793
         ],
         "yaxis": "y"
        },
        {
         "hovertemplate": "algorithm=conviction_eclat<br>Rule Index=%{x}<br>Conviction=%{y}<extra></extra>",
         "legendgroup": "conviction_eclat",
         "marker": {
          "color": "#EF553B",
          "symbol": "circle"
         },
         "mode": "markers",
         "name": "conviction_eclat",
         "orientation": "v",
         "showlegend": true,
         "type": "scatter",
         "x": [
          0,
          1,
          2,
          3,
          4,
          5,
          6,
          7,
          8,
          9,
          10,
          11,
          12,
          13,
          14,
          15,
          16,
          17,
          18,
          19,
          20,
          21,
          22,
          23,
          24,
          25,
          26,
          27,
          28,
          29,
          30,
          31,
          32,
          33,
          34,
          35,
          36,
          37,
          38,
          39
         ],
         "xaxis": "x",
         "y": [
          1.447170990934667,
          2.312597686777117,
          1.7656819839533184,
          1.673413566739606,
          1.5263640855509282,
          1.5899625891155502,
          2.0769842848617466,
          1.4883296863603208,
          1.4818867007050815,
          1.6043439500769918,
          2.0116703136396787,
          1.3700461949914906,
          2.828884026258206,
          1.7404266958424508,
          1.6070021881838072,
          1.2944975182793403,
          1.640006036369124,
          5.587746170678341,
          1.4442013129102846,
          1.2845633578675155,
          1.2989773589961149,
          1.2414879649890591,
          4.529540481400436,
          1.2325910670613978,
          1.1512900106864792,
          1.111013858497447,
          1.2379509622398026,
          1.1122706615047973,
          1.8145093418616391,
          1.2560175054704594,
          1.1214917705261156,
          1.1781392528538661,
          7.544857768052516,
          4.92691466083151,
          2.3654266958424506,
          1.6985776805251638,
          1.4489423778264043,
          1.7399590597868286,
          1.320598497841386,
          1.5098468271334793
         ],
         "yaxis": "y"
        }
       ],
       "layout": {
        "legend": {
         "title": {
          "text": "algorithm"
         },
         "tracegroupgap": 0
        },
        "margin": {
         "t": 60
        },
        "template": {
         "data": {
          "bar": [
           {
            "error_x": {
             "color": "#2a3f5f"
            },
            "error_y": {
             "color": "#2a3f5f"
            },
            "marker": {
             "line": {
              "color": "#E5ECF6",
              "width": 0.5
             }
            },
            "type": "bar"
           }
          ],
          "barpolar": [
           {
            "marker": {
             "line": {
              "color": "#E5ECF6",
              "width": 0.5
             }
            },
            "type": "barpolar"
           }
          ],
          "carpet": [
           {
            "aaxis": {
             "endlinecolor": "#2a3f5f",
             "gridcolor": "white",
             "linecolor": "white",
             "minorgridcolor": "white",
             "startlinecolor": "#2a3f5f"
            },
            "baxis": {
             "endlinecolor": "#2a3f5f",
             "gridcolor": "white",
             "linecolor": "white",
             "minorgridcolor": "white",
             "startlinecolor": "#2a3f5f"
            },
            "type": "carpet"
           }
          ],
          "choropleth": [
           {
            "colorbar": {
             "outlinewidth": 0,
             "ticks": ""
            },
            "type": "choropleth"
           }
          ],
          "contour": [
           {
            "colorbar": {
             "outlinewidth": 0,
             "ticks": ""
            },
            "colorscale": [
             [
              0,
              "#0d0887"
             ],
             [
              0.1111111111111111,
              "#46039f"
             ],
             [
              0.2222222222222222,
              "#7201a8"
             ],
             [
              0.3333333333333333,
              "#9c179e"
             ],
             [
              0.4444444444444444,
              "#bd3786"
             ],
             [
              0.5555555555555556,
              "#d8576b"
             ],
             [
              0.6666666666666666,
              "#ed7953"
             ],
             [
              0.7777777777777778,
              "#fb9f3a"
             ],
             [
              0.8888888888888888,
              "#fdca26"
             ],
             [
              1,
              "#f0f921"
             ]
            ],
            "type": "contour"
           }
          ],
          "contourcarpet": [
           {
            "colorbar": {
             "outlinewidth": 0,
             "ticks": ""
            },
            "type": "contourcarpet"
           }
          ],
          "heatmap": [
           {
            "colorbar": {
             "outlinewidth": 0,
             "ticks": ""
            },
            "colorscale": [
             [
              0,
              "#0d0887"
             ],
             [
              0.1111111111111111,
              "#46039f"
             ],
             [
              0.2222222222222222,
              "#7201a8"
             ],
             [
              0.3333333333333333,
              "#9c179e"
             ],
             [
              0.4444444444444444,
              "#bd3786"
             ],
             [
              0.5555555555555556,
              "#d8576b"
             ],
             [
              0.6666666666666666,
              "#ed7953"
             ],
             [
              0.7777777777777778,
              "#fb9f3a"
             ],
             [
              0.8888888888888888,
              "#fdca26"
             ],
             [
              1,
              "#f0f921"
             ]
            ],
            "type": "heatmap"
           }
          ],
          "heatmapgl": [
           {
            "colorbar": {
             "outlinewidth": 0,
             "ticks": ""
            },
            "colorscale": [
             [
              0,
              "#0d0887"
             ],
             [
              0.1111111111111111,
              "#46039f"
             ],
             [
              0.2222222222222222,
              "#7201a8"
             ],
             [
              0.3333333333333333,
              "#9c179e"
             ],
             [
              0.4444444444444444,
              "#bd3786"
             ],
             [
              0.5555555555555556,
              "#d8576b"
             ],
             [
              0.6666666666666666,
              "#ed7953"
             ],
             [
              0.7777777777777778,
              "#fb9f3a"
             ],
             [
              0.8888888888888888,
              "#fdca26"
             ],
             [
              1,
              "#f0f921"
             ]
            ],
            "type": "heatmapgl"
           }
          ],
          "histogram": [
           {
            "marker": {
             "colorbar": {
              "outlinewidth": 0,
              "ticks": ""
             }
            },
            "type": "histogram"
           }
          ],
          "histogram2d": [
           {
            "colorbar": {
             "outlinewidth": 0,
             "ticks": ""
            },
            "colorscale": [
             [
              0,
              "#0d0887"
             ],
             [
              0.1111111111111111,
              "#46039f"
             ],
             [
              0.2222222222222222,
              "#7201a8"
             ],
             [
              0.3333333333333333,
              "#9c179e"
             ],
             [
              0.4444444444444444,
              "#bd3786"
             ],
             [
              0.5555555555555556,
              "#d8576b"
             ],
             [
              0.6666666666666666,
              "#ed7953"
             ],
             [
              0.7777777777777778,
              "#fb9f3a"
             ],
             [
              0.8888888888888888,
              "#fdca26"
             ],
             [
              1,
              "#f0f921"
             ]
            ],
            "type": "histogram2d"
           }
          ],
          "histogram2dcontour": [
           {
            "colorbar": {
             "outlinewidth": 0,
             "ticks": ""
            },
            "colorscale": [
             [
              0,
              "#0d0887"
             ],
             [
              0.1111111111111111,
              "#46039f"
             ],
             [
              0.2222222222222222,
              "#7201a8"
             ],
             [
              0.3333333333333333,
              "#9c179e"
             ],
             [
              0.4444444444444444,
              "#bd3786"
             ],
             [
              0.5555555555555556,
              "#d8576b"
             ],
             [
              0.6666666666666666,
              "#ed7953"
             ],
             [
              0.7777777777777778,
              "#fb9f3a"
             ],
             [
              0.8888888888888888,
              "#fdca26"
             ],
             [
              1,
              "#f0f921"
             ]
            ],
            "type": "histogram2dcontour"
           }
          ],
          "mesh3d": [
           {
            "colorbar": {
             "outlinewidth": 0,
             "ticks": ""
            },
            "type": "mesh3d"
           }
          ],
          "parcoords": [
           {
            "line": {
             "colorbar": {
              "outlinewidth": 0,
              "ticks": ""
             }
            },
            "type": "parcoords"
           }
          ],
          "pie": [
           {
            "automargin": true,
            "type": "pie"
           }
          ],
          "scatter": [
           {
            "marker": {
             "colorbar": {
              "outlinewidth": 0,
              "ticks": ""
             }
            },
            "type": "scatter"
           }
          ],
          "scatter3d": [
           {
            "line": {
             "colorbar": {
              "outlinewidth": 0,
              "ticks": ""
             }
            },
            "marker": {
             "colorbar": {
              "outlinewidth": 0,
              "ticks": ""
             }
            },
            "type": "scatter3d"
           }
          ],
          "scattercarpet": [
           {
            "marker": {
             "colorbar": {
              "outlinewidth": 0,
              "ticks": ""
             }
            },
            "type": "scattercarpet"
           }
          ],
          "scattergeo": [
           {
            "marker": {
             "colorbar": {
              "outlinewidth": 0,
              "ticks": ""
             }
            },
            "type": "scattergeo"
           }
          ],
          "scattergl": [
           {
            "marker": {
             "colorbar": {
              "outlinewidth": 0,
              "ticks": ""
             }
            },
            "type": "scattergl"
           }
          ],
          "scattermapbox": [
           {
            "marker": {
             "colorbar": {
              "outlinewidth": 0,
              "ticks": ""
             }
            },
            "type": "scattermapbox"
           }
          ],
          "scatterpolar": [
           {
            "marker": {
             "colorbar": {
              "outlinewidth": 0,
              "ticks": ""
             }
            },
            "type": "scatterpolar"
           }
          ],
          "scatterpolargl": [
           {
            "marker": {
             "colorbar": {
              "outlinewidth": 0,
              "ticks": ""
             }
            },
            "type": "scatterpolargl"
           }
          ],
          "scatterternary": [
           {
            "marker": {
             "colorbar": {
              "outlinewidth": 0,
              "ticks": ""
             }
            },
            "type": "scatterternary"
           }
          ],
          "surface": [
           {
            "colorbar": {
             "outlinewidth": 0,
             "ticks": ""
            },
            "colorscale": [
             [
              0,
              "#0d0887"
             ],
             [
              0.1111111111111111,
              "#46039f"
             ],
             [
              0.2222222222222222,
              "#7201a8"
             ],
             [
              0.3333333333333333,
              "#9c179e"
             ],
             [
              0.4444444444444444,
              "#bd3786"
             ],
             [
              0.5555555555555556,
              "#d8576b"
             ],
             [
              0.6666666666666666,
              "#ed7953"
             ],
             [
              0.7777777777777778,
              "#fb9f3a"
             ],
             [
              0.8888888888888888,
              "#fdca26"
             ],
             [
              1,
              "#f0f921"
             ]
            ],
            "type": "surface"
           }
          ],
          "table": [
           {
            "cells": {
             "fill": {
              "color": "#EBF0F8"
             },
             "line": {
              "color": "white"
             }
            },
            "header": {
             "fill": {
              "color": "#C8D4E3"
             },
             "line": {
              "color": "white"
             }
            },
            "type": "table"
           }
          ]
         },
         "layout": {
          "annotationdefaults": {
           "arrowcolor": "#2a3f5f",
           "arrowhead": 0,
           "arrowwidth": 1
          },
          "autotypenumbers": "strict",
          "coloraxis": {
           "colorbar": {
            "outlinewidth": 0,
            "ticks": ""
           }
          },
          "colorscale": {
           "diverging": [
            [
             0,
             "#8e0152"
            ],
            [
             0.1,
             "#c51b7d"
            ],
            [
             0.2,
             "#de77ae"
            ],
            [
             0.3,
             "#f1b6da"
            ],
            [
             0.4,
             "#fde0ef"
            ],
            [
             0.5,
             "#f7f7f7"
            ],
            [
             0.6,
             "#e6f5d0"
            ],
            [
             0.7,
             "#b8e186"
            ],
            [
             0.8,
             "#7fbc41"
            ],
            [
             0.9,
             "#4d9221"
            ],
            [
             1,
             "#276419"
            ]
           ],
           "sequential": [
            [
             0,
             "#0d0887"
            ],
            [
             0.1111111111111111,
             "#46039f"
            ],
            [
             0.2222222222222222,
             "#7201a8"
            ],
            [
             0.3333333333333333,
             "#9c179e"
            ],
            [
             0.4444444444444444,
             "#bd3786"
            ],
            [
             0.5555555555555556,
             "#d8576b"
            ],
            [
             0.6666666666666666,
             "#ed7953"
            ],
            [
             0.7777777777777778,
             "#fb9f3a"
            ],
            [
             0.8888888888888888,
             "#fdca26"
            ],
            [
             1,
             "#f0f921"
            ]
           ],
           "sequentialminus": [
            [
             0,
             "#0d0887"
            ],
            [
             0.1111111111111111,
             "#46039f"
            ],
            [
             0.2222222222222222,
             "#7201a8"
            ],
            [
             0.3333333333333333,
             "#9c179e"
            ],
            [
             0.4444444444444444,
             "#bd3786"
            ],
            [
             0.5555555555555556,
             "#d8576b"
            ],
            [
             0.6666666666666666,
             "#ed7953"
            ],
            [
             0.7777777777777778,
             "#fb9f3a"
            ],
            [
             0.8888888888888888,
             "#fdca26"
            ],
            [
             1,
             "#f0f921"
            ]
           ]
          },
          "colorway": [
           "#636efa",
           "#EF553B",
           "#00cc96",
           "#ab63fa",
           "#FFA15A",
           "#19d3f3",
           "#FF6692",
           "#B6E880",
           "#FF97FF",
           "#FECB52"
          ],
          "font": {
           "color": "#2a3f5f"
          },
          "geo": {
           "bgcolor": "white",
           "lakecolor": "white",
           "landcolor": "#E5ECF6",
           "showlakes": true,
           "showland": true,
           "subunitcolor": "white"
          },
          "hoverlabel": {
           "align": "left"
          },
          "hovermode": "closest",
          "mapbox": {
           "style": "light"
          },
          "paper_bgcolor": "white",
          "plot_bgcolor": "#E5ECF6",
          "polar": {
           "angularaxis": {
            "gridcolor": "white",
            "linecolor": "white",
            "ticks": ""
           },
           "bgcolor": "#E5ECF6",
           "radialaxis": {
            "gridcolor": "white",
            "linecolor": "white",
            "ticks": ""
           }
          },
          "scene": {
           "xaxis": {
            "backgroundcolor": "#E5ECF6",
            "gridcolor": "white",
            "gridwidth": 2,
            "linecolor": "white",
            "showbackground": true,
            "ticks": "",
            "zerolinecolor": "white"
           },
           "yaxis": {
            "backgroundcolor": "#E5ECF6",
            "gridcolor": "white",
            "gridwidth": 2,
            "linecolor": "white",
            "showbackground": true,
            "ticks": "",
            "zerolinecolor": "white"
           },
           "zaxis": {
            "backgroundcolor": "#E5ECF6",
            "gridcolor": "white",
            "gridwidth": 2,
            "linecolor": "white",
            "showbackground": true,
            "ticks": "",
            "zerolinecolor": "white"
           }
          },
          "shapedefaults": {
           "line": {
            "color": "#2a3f5f"
           }
          },
          "ternary": {
           "aaxis": {
            "gridcolor": "white",
            "linecolor": "white",
            "ticks": ""
           },
           "baxis": {
            "gridcolor": "white",
            "linecolor": "white",
            "ticks": ""
           },
           "bgcolor": "#E5ECF6",
           "caxis": {
            "gridcolor": "white",
            "linecolor": "white",
            "ticks": ""
           }
          },
          "title": {
           "x": 0.05
          },
          "xaxis": {
           "automargin": true,
           "gridcolor": "white",
           "linecolor": "white",
           "ticks": "",
           "title": {
            "standoff": 15
           },
           "zerolinecolor": "white",
           "zerolinewidth": 2
          },
          "yaxis": {
           "automargin": true,
           "gridcolor": "white",
           "linecolor": "white",
           "ticks": "",
           "title": {
            "standoff": 15
           },
           "zerolinecolor": "white",
           "zerolinewidth": 2
          }
         }
        },
        "xaxis": {
         "anchor": "y",
         "domain": [
          0,
          1
         ],
         "title": {
          "text": "Rule Index"
         }
        },
        "yaxis": {
         "anchor": "x",
         "domain": [
          0,
          1
         ],
         "title": {
          "text": "Conviction"
         }
        }
       }
      }
     },
     "metadata": {}
    }
   ],
   "source": [
    "fig = px.scatter(retail_joined, y=['conviction_apriori', 'conviction_eclat'], labels={'index':'Rule Index', 'value':'Conviction', 'variable': 'algorithm', 'lift_apriori':'Apriori', 'lift_eclat': 'ECLAT'})\n",
    "fig.show()"
   ]
  },
  {
   "cell_type": "code",
   "execution_count": 20,
   "metadata": {},
   "outputs": [
    {
     "output_type": "stream",
     "name": "stdout",
     "text": [
      "Apriori\nAverage Conviction:  1.9906493258162359\nMax Conviction:  7.544857768052516\nMin Conviction:  1.111013858497447\n\n\nEclat\nAverage Conviction:  1.9906493258162359\nMax Conviction:  7.544857768052516\nMin Conviction:  1.111013858497447\n"
     ]
    }
   ],
   "source": [
    "print(\"Apriori\")\n",
    "print(\"Average Conviction: \", retail_joined['conviction_apriori'].mean())\n",
    "print(\"Max Conviction: \", retail_joined['conviction_apriori'].max())\n",
    "print(\"Min Conviction: \", retail_joined['conviction_apriori'].min())\n",
    "\n",
    "print(\"\\n\\nEclat\")\n",
    "print(\"Average Conviction: \", retail_joined['conviction_eclat'].mean())\n",
    "print(\"Max Conviction: \", retail_joined['conviction_eclat'].max())\n",
    "print(\"Min Conviction: \", retail_joined['conviction_eclat'].min())"
   ]
  },
  {
   "source": [
    "## Average, Min, Max Support and Confidence"
   ],
   "cell_type": "markdown",
   "metadata": {}
  },
  {
   "cell_type": "code",
   "execution_count": 21,
   "metadata": {},
   "outputs": [
    {
     "output_type": "stream",
     "name": "stdout",
     "text": [
      "Retail\nApriori\nAverage Support:  0.053694664197946475\nMax Support:  0.13129102844638948\nMin Support:  0.04157549234135667\n\n\nEclat\nAverage Support:  0.053694664197946475\nMax Support:  0.13129102844638948\nMin Support:  0.04157549234135667\n"
     ]
    }
   ],
   "source": [
    "print(\"Retail\")\n",
    "print(\"Apriori\")\n",
    "print(\"Average Support: \", retail_joined['support_apriori'].mean())\n",
    "print(\"Max Support: \", retail_joined['support_apriori'].max())\n",
    "print(\"Min Support: \", retail_joined['support_apriori'].min())\n",
    "\n",
    "print(\"\\n\\nEclat\")\n",
    "print(\"Average Support: \", retail_joined['support_eclat'].mean())\n",
    "print(\"Max Support: \", retail_joined['support_eclat'].max())\n",
    "print(\"Min Support: \", retail_joined['support_eclat'].min())"
   ]
  },
  {
   "cell_type": "code",
   "execution_count": 22,
   "metadata": {},
   "outputs": [
    {
     "output_type": "stream",
     "name": "stdout",
     "text": [
      "Retail\nApriori\nAverage Confidence:  0.4540531365575575\nMax Confidence:  0.875\nMin Confidence:  0.16964285714285712\n\n\nEclat\nAverage Confidence:  0.4540531365575575\nMax Confidence:  0.875\nMin Confidence:  0.16964285714285712\n"
     ]
    }
   ],
   "source": [
    "print(\"Retail\")\n",
    "print(\"Apriori\")\n",
    "print(\"Average Confidence: \", retail_joined['confidence_apriori'].mean())\n",
    "print(\"Max Confidence: \", retail_joined['confidence_apriori'].max())\n",
    "print(\"Min Confidence: \", retail_joined['confidence_apriori'].min())\n",
    "\n",
    "print(\"\\n\\nEclat\")\n",
    "print(\"Average Confidence: \", retail_joined['confidence_eclat'].mean())\n",
    "print(\"Max Confidence: \", retail_joined['confidence_eclat'].max())\n",
    "print(\"Min Confidence: \", retail_joined['confidence_eclat'].min())"
   ]
  }
 ]
}